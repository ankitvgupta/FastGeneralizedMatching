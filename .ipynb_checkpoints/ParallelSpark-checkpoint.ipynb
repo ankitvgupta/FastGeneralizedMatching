{
 "metadata": {
  "name": "",
  "signature": "sha256:beff991789d6a99603a9e2d1f9e55216d7347f3c5e6b1c370ba3dabf780dc5c2"
 },
 "nbformat": 3,
 "nbformat_minor": 0,
 "worksheets": [
  {
   "cells": [
    {
     "cell_type": "code",
     "collapsed": false,
     "input": [
      "import findspark\n",
      "findspark.init()\n",
      "\n",
      "import pyspark\n",
      "sc = pyspark.SparkContext(appName=\"Spark1\")\n",
      "\n",
      "\n",
      "import numpy as np\n",
      "import itertools\n",
      "\n",
      "# Reduce the amount that Spark logs to the console.\n",
      "logger = sc._jvm.org.apache.log4j\n",
      "logger.LogManager.getLogger(\"org\"). setLevel( logger.Level.ERROR )\n",
      "logger.LogManager.getLogger(\"akka\").setLevel( logger.Level.ERROR )"
     ],
     "language": "python",
     "metadata": {},
     "outputs": [],
     "prompt_number": 1
    },
    {
     "cell_type": "code",
     "collapsed": false,
     "input": [
      "import sys"
     ],
     "language": "python",
     "metadata": {},
     "outputs": [],
     "prompt_number": 2
    },
    {
     "cell_type": "code",
     "collapsed": false,
     "input": [
      "def copartitioned(RDD1, RDD2):\n",
      "    \"check if two RDDs are copartitioned\"\n",
      "    return RDD1.partitioner == RDD2.partitioner"
     ],
     "language": "python",
     "metadata": {},
     "outputs": [],
     "prompt_number": 3
    },
    {
     "cell_type": "code",
     "collapsed": false,
     "input": [
      "doctor_matchings = np.loadtxt(\"doctor_preferences.txt\").astype(int)\n",
      "hospital_matchings = np.loadtxt(\"hospital_preferences.txt\").astype(int)"
     ],
     "language": "python",
     "metadata": {},
     "outputs": [],
     "prompt_number": 4
    },
    {
     "cell_type": "code",
     "collapsed": false,
     "input": [
      "spots_per_hospital = 8\n",
      "numPartitions = 64"
     ],
     "language": "python",
     "metadata": {},
     "outputs": [],
     "prompt_number": 5
    },
    {
     "cell_type": "code",
     "collapsed": false,
     "input": [
      "# These RDD are KV pairs, where the key is the ID of the doctor/hospital, and the values are the IDs of the respective \n",
      "# doctors or hospitals in order of preference.\n",
      "# By this, I mean that hospitals have a set of preferences over doctors, and doctors have preferences over hospitals\n",
      "doctor_RDD = sc.textFile('doctor_preferences.txt', numPartitions).map(lambda x: map(int, x.split())).zipWithIndex()\\\n",
      "                                                        .map(lambda (x, y): (y, x)).partitionBy(numPartitions)\n",
      "hospital_RDD = sc.textFile('hospital_preferences.txt', numPartitions).map(lambda x: map(int, x.split())).zipWithIndex()\\\n",
      "                                                        .map(lambda (x, y): (y, x)).partitionBy(numPartitions)"
     ],
     "language": "python",
     "metadata": {},
     "outputs": [],
     "prompt_number": 6
    },
    {
     "cell_type": "code",
     "collapsed": false,
     "input": [
      "\n",
      "\n",
      "assert(copartitioned(doctor_RDD, hospital_RDD))\n"
     ],
     "language": "python",
     "metadata": {},
     "outputs": [],
     "prompt_number": 7
    },
    {
     "cell_type": "code",
     "collapsed": false,
     "input": [],
     "language": "python",
     "metadata": {},
     "outputs": [],
     "prompt_number": 7
    },
    {
     "cell_type": "code",
     "collapsed": false,
     "input": [],
     "language": "python",
     "metadata": {},
     "outputs": [],
     "prompt_number": 7
    },
    {
     "cell_type": "code",
     "collapsed": false,
     "input": [
      "# Preferences is a list of ints in order that you want them\n",
      "# pickingfrom is the ones you are picking from\n",
      "# N is how many you are picking\n",
      "# Ex: pick_top_N([3, 4, 5, 1, 2, 7, 8], [7, 1, 2, 4, 5], 3) -> [4, 5, 1]\n",
      "def pick_top_N(preferences, pickingfrom, N):\n",
      "    pickingfrom.sort(key=lambda x: preferences.index(x))\n",
      "    return pickingfrom[:N]\n",
      "\n",
      "    "
     ],
     "language": "python",
     "metadata": {},
     "outputs": [],
     "prompt_number": 8
    },
    {
     "cell_type": "code",
     "collapsed": false,
     "input": [],
     "language": "python",
     "metadata": {},
     "outputs": [],
     "prompt_number": 8
    },
    {
     "cell_type": "code",
     "collapsed": false,
     "input": [
      "doctor_matchings = doctor_RDD.mapValues(lambda x : -1).cache()\n",
      "hospital_matchings = hospital_RDD.mapValues(lambda x: []).cache()"
     ],
     "language": "python",
     "metadata": {},
     "outputs": [],
     "prompt_number": 9
    },
    {
     "cell_type": "code",
     "collapsed": false,
     "input": [
      "def combine_old_new(newoptions, oldoptions, preferences):\n",
      "    if newoptions == None:\n",
      "        newoptions = []\n",
      "    if oldoptions == None:\n",
      "        oldoptions = []\n",
      "    alloptions = list(set(newoptions).union(set(oldoptions)))\n",
      "    return pick_top_N(preferences, alloptions, 8)\n"
     ],
     "language": "python",
     "metadata": {},
     "outputs": [],
     "prompt_number": 10
    },
    {
     "cell_type": "code",
     "collapsed": false,
     "input": [
      "def accept_new_hospital_assignment(old, new):\n",
      "    if new == None:\n",
      "        return -1\n",
      "    return new"
     ],
     "language": "python",
     "metadata": {},
     "outputs": [],
     "prompt_number": 11
    },
    {
     "cell_type": "code",
     "collapsed": false,
     "input": [
      "# If unmatched (match == -1), then we are gonna use try to use the next pref, so one remove from the list\n",
      "def remove_pref_if_needed(prefs, match):\n",
      "    # If unmatched and pref remaining, remove it.\n",
      "    if match == -1 and len(prefs) > 0:\n",
      "        return prefs[1:]\n",
      "    # Else return original prefs\n",
      "    return prefs"
     ],
     "language": "python",
     "metadata": {},
     "outputs": [],
     "prompt_number": 12
    },
    {
     "cell_type": "code",
     "collapsed": false,
     "input": [
      "def is_changed(old, new):\n",
      "    if old == -1 and new == None:\n",
      "        return False\n",
      "    elif old == -1 and new != None:\n",
      "        return True\n",
      "    return old != new\n",
      "    "
     ],
     "language": "python",
     "metadata": {},
     "outputs": [],
     "prompt_number": 13
    },
    {
     "cell_type": "code",
     "collapsed": false,
     "input": [
      "doctor_prefs = doctor_RDD.map(lambda x: x).partitionBy(numPartitions).cache()"
     ],
     "language": "python",
     "metadata": {},
     "outputs": [],
     "prompt_number": 14
    },
    {
     "cell_type": "code",
     "collapsed": false,
     "input": [],
     "language": "python",
     "metadata": {},
     "outputs": [],
     "prompt_number": 14
    },
    {
     "cell_type": "code",
     "collapsed": false,
     "input": [],
     "language": "python",
     "metadata": {},
     "outputs": [],
     "prompt_number": 14
    },
    {
     "cell_type": "code",
     "collapsed": false,
     "input": [
      "# Accum1 tracks the number of doctors whose status changed\n",
      "num_doctors_to_consider = sc.accumulator(1)\n",
      "while accum.value > 0 or accum2.value > 0:\n",
      "    num_doctors_to_consider.value = 0\n",
      "    # These are the top remaining choices for the unmatched doctors\n",
      "    assert(copartitioned(doctor_prefs, doctor_matchings))\n",
      "    unmatched_doctors_joined = doctor_prefs.join(doctor_matchings).filter(lambda (doc, (prefs, match)): match == -1 and len(prefs) > 0).cache()\n",
      "    unmatched_doctors_joined.foreach(lambda x: num_doctors_to_consider.add(1))\n",
      "    print \"Number doctors to work on\", num_doctors_to_consider.value\n",
      "    if num_doctors_to_consider.value == 0:\n",
      "        break\n",
      "    sys.stdout.flush()\n",
      "    unmatched_doctor_preferences = unmatched_doctors_joined.mapValues(lambda (prefs, match): prefs).cache()\n",
      "    unmatched_doctors_joined.unpersist()\n",
      "\n",
      "    # Update all of the doctor prefs by removing the first pref from each unmatched doctor\n",
      "    assert(copartitioned(doctor_prefs, doctor_matchings))\n",
      "    doctor_prefs = doctor_prefs.join(doctor_matchings).mapValues(lambda (prefs, match): remove_pref_if_needed(prefs, match)).cache()\n",
      "    # Take the first pref from each unmatched doctor \n",
      "    doctor_proposals = unmatched_doctor_preferences.mapValues(lambda x: x[0])\n",
      "    unmatched_doctor_preferences.unpersist()\n",
      "    # Group the requests by hospital\n",
      "    hospital_groupings = doctor_proposals.map(lambda (x, y) : (y, x)).partitionBy(numPartitions).groupByKey()\n",
      "    # Join the new requests for each hospital with what they previously had and their preferences\n",
      "    assert(copartitioned(hospital_groupings, hospital_matchings))\n",
      "    assert(copartitioned(hospital_groupings, hospital_RDD))\n",
      "    joined_hospital = hospital_groupings.rightOuterJoin(hospital_matchings).join(hospital_RDD)\n",
      "    # Determine the best ones\n",
      "    hospital_matchings = joined_hospital.mapValues(lambda ((new, old), preferences): combine_old_new(new, old, preferences)).cache()\n",
      "    # Inform the doctors of the match\n",
      "    matched_doctors = hospital_matchings.flatMapValues(lambda x: x).map(lambda (x, y) : (y, x)).partitionBy(numPartitions)\n",
      "    # Update the doctor matchings\n",
      "    assert(copartitioned(doctor_matchings, matched_doctors))\n",
      "    doctor_matchings = doctor_matchings.leftOuterJoin(matched_doctors).mapValues(lambda (old,new) : accept_new_hospital_assignment(old, new)).cache()\n",
      "    sys.stdout.flush()\n"
     ],
     "language": "python",
     "metadata": {},
     "outputs": [
      {
       "output_type": "stream",
       "stream": "stdout",
       "text": [
        "[(0, 20), (64, 20), (128, 20), (192, 20), (256, 20)]\n",
        "Number of unmatched preferences to still check"
       ]
      },
      {
       "output_type": "stream",
       "stream": "stdout",
       "text": [
        " 10000\n"
       ]
      },
      {
       "output_type": "stream",
       "stream": "stdout",
       "text": [
        "[(1, 19), (193, 19), (257, 19), (2, 19), (323, 19)]\n",
        "Number of unmatched preferences to still check"
       ]
      },
      {
       "output_type": "stream",
       "stream": "stdout",
       "text": [
        " 2185\n"
       ]
      },
      {
       "output_type": "stream",
       "stream": "stdout",
       "text": [
        "[(0, 19), (128, 19), (195, 19), (67, 19), (325, 18)]\n",
        "Number of unmatched preferences to still check"
       ]
      },
      {
       "output_type": "stream",
       "stream": "stdout",
       "text": [
        " 1922\n"
       ]
      },
      {
       "output_type": "stream",
       "stream": "stdout",
       "text": [
        "[(0, 18), (256, 19), (257, 18), (321, 19), (449, 19)]\n",
        "Number of unmatched preferences to still check"
       ]
      },
      {
       "output_type": "stream",
       "stream": "stdout",
       "text": [
        " 1815\n"
       ]
      },
      {
       "output_type": "stream",
       "stream": "stdout",
       "text": [
        "[(0, 17), (256, 18), (321, 18), (3, 19), (259, 19)]\n",
        "Number of unmatched preferences to still check"
       ]
      },
      {
       "output_type": "stream",
       "stream": "stdout",
       "text": [
        " 1781\n"
       ]
      },
      {
       "output_type": "stream",
       "stream": "stdout",
       "text": [
        "[(0, 16), (192, 19), (256, 17), (320, 19), (1, 18)]\n",
        "Number of unmatched preferences to still check"
       ]
      },
      {
       "output_type": "stream",
       "stream": "stdout",
       "text": [
        " 1736\n"
       ]
      },
      {
       "output_type": "stream",
       "stream": "stdout",
       "text": [
        "[(0, 15), (128, 18), (256, 16), (320, 18), (1, 17)]\n",
        "Number of unmatched preferences to still check"
       ]
      },
      {
       "output_type": "stream",
       "stream": "stdout",
       "text": [
        " 1706\n"
       ]
      },
      {
       "output_type": "stream",
       "stream": "stdout",
       "text": [
        "[(0, 14), (128, 17), (256, 15), (1, 16), (193, 16)]\n",
        "Number of unmatched preferences to still check"
       ]
      },
      {
       "output_type": "stream",
       "stream": "stdout",
       "text": [
        " 1682\n"
       ]
      },
      {
       "output_type": "stream",
       "stream": "stdout",
       "text": [
        "[(0, 13), (128, 16), (256, 14), (193, 15), (66, 17)]\n",
        "Number of unmatched preferences to still check"
       ]
      },
      {
       "output_type": "stream",
       "stream": "stdout",
       "text": [
        " 1647\n"
       ]
      },
      {
       "output_type": "stream",
       "stream": "stdout",
       "text": [
        "[(128, 15), (448, 19), (1, 15), (2, 18), (66, 16)]\n",
        "Number of unmatched preferences to still check"
       ]
      },
      {
       "output_type": "stream",
       "stream": "stdout",
       "text": [
        " 1624\n"
       ]
      },
      {
       "output_type": "stream",
       "stream": "stdout",
       "text": [
        "[(0, 12), (64, 19), (128, 14), (448, 18), (1, 14)]\n",
        "Number of unmatched preferences to still check"
       ]
      },
      {
       "output_type": "stream",
       "stream": "stdout",
       "text": [
        " 1607\n"
       ]
      },
      {
       "output_type": "stream",
       "stream": "stdout",
       "text": [
        "[(0, 11), (64, 18), (128, 13), (1, 13), (65, 18)]\n",
        "Number of unmatched preferences to still check"
       ]
      },
      {
       "output_type": "stream",
       "stream": "stdout",
       "text": [
        " 1565\n"
       ]
      },
      {
       "output_type": "stream",
       "stream": "stdout",
       "text": [
        "[(0, 10), (64, 17), (128, 12), (1, 12), (65, 17)]\n",
        "Number of unmatched preferences to still check"
       ]
      },
      {
       "output_type": "stream",
       "stream": "stdout",
       "text": [
        " 1519\n"
       ]
      },
      {
       "output_type": "stream",
       "stream": "stdout",
       "text": [
        "[(0, 9), (64, 16), (128, 11), (320, 17), (65, 16)]\n",
        "Number of unmatched preferences to still check"
       ]
      },
      {
       "output_type": "stream",
       "stream": "stdout",
       "text": [
        " 1494\n"
       ]
      },
      {
       "output_type": "stream",
       "stream": "stdout",
       "text": [
        "[(128, 10), (320, 16), (193, 14), (324, 17), (5, 6)]\n",
        "Number of unmatched preferences to still check"
       ]
      },
      {
       "output_type": "stream",
       "stream": "stdout",
       "text": [
        " 1449\n"
       ]
      },
      {
       "output_type": "stream",
       "stream": "stdout",
       "text": [
        "[(128, 9), (65, 15), (193, 13), (257, 17), (450, 19)]\n",
        "Number of unmatched preferences to still check"
       ]
      },
      {
       "output_type": "stream",
       "stream": "stdout",
       "text": [
        " 1398\n"
       ]
      },
      {
       "output_type": "stream",
       "stream": "stdout",
       "text": [
        "[(65, 14), (193, 12), (257, 16), (450, 18), (68, 18)]\n",
        "Number of unmatched preferences to still check"
       ]
      },
      {
       "output_type": "stream",
       "stream": "stdout",
       "text": [
        " 1376\n"
       ]
      },
      {
       "output_type": "stream",
       "stream": "stdout",
       "text": [
        "[(65, 13), (257, 15), (450, 17), (133, 19), (5, 3)]\n",
        "Number of unmatched preferences to still check"
       ]
      },
      {
       "output_type": "stream",
       "stream": "stdout",
       "text": [
        " 1340\n"
       ]
      },
      {
       "output_type": "stream",
       "stream": "stdout",
       "text": [
        "[(257, 14), (450, 16), (452, 19), (5, 2), (326, 15)]\n",
        "Number of unmatched preferences to still check"
       ]
      },
      {
       "output_type": "stream",
       "stream": "stdout",
       "text": [
        " 1323\n"
       ]
      },
      {
       "output_type": "stream",
       "stream": "stdout",
       "text": [
        "[(257, 13), (450, 15), (452, 18), (196, 19), (5, 1)]\n",
        "Number of unmatched preferences to still check"
       ]
      },
      {
       "output_type": "stream",
       "stream": "stdout",
       "text": [
        " 1274\n"
       ]
      },
      {
       "output_type": "stream",
       "stream": "stdout",
       "text": [
        "[(257, 12), (450, 14), (68, 17), (452, 17), (196, 18)]\n",
        "Number of unmatched preferences to still check"
       ]
      },
      {
       "output_type": "stream",
       "stream": "stdout",
       "text": [
        " 1225\n"
       ]
      },
      {
       "output_type": "stream",
       "stream": "stdout",
       "text": [
        "[(256, 13), (384, 19), (257, 11), (386, 19), (450, 13)]\n",
        "Number of unmatched preferences to still check"
       ]
      },
      {
       "output_type": "stream",
       "stream": "stdout",
       "text": [
        " 1190\n"
       ]
      },
      {
       "output_type": "stream",
       "stream": "stdout",
       "text": [
        "[(64, 15), (256, 12), (257, 10), (450, 12), (323, 12)]\n",
        "Number of unmatched preferences to still check"
       ]
      },
      {
       "output_type": "stream",
       "stream": "stdout",
       "text": [
        " 1104\n"
       ]
      },
      {
       "output_type": "stream",
       "stream": "stdout",
       "text": [
        "[(64, 14), (256, 11), (257, 9), (450, 11), (3, 15)]\n",
        "Number of unmatched preferences to still check"
       ]
      },
      {
       "output_type": "stream",
       "stream": "stdout",
       "text": [
        " 1078\n"
       ]
      },
      {
       "output_type": "stream",
       "stream": "stdout",
       "text": [
        "[(64, 13), (256, 10), (1, 11), (257, 8), (450, 10)]\n",
        "Number of unmatched preferences to still check"
       ]
      },
      {
       "output_type": "stream",
       "stream": "stdout",
       "text": [
        " 1070\n"
       ]
      },
      {
       "output_type": "stream",
       "stream": "stdout",
       "text": [
        "[(64, 12), (256, 9), (1, 10), (257, 7), (450, 9)]\n",
        "Number of unmatched preferences to still check"
       ]
      },
      {
       "output_type": "stream",
       "stream": "stdout",
       "text": [
        " 989\n"
       ]
      },
      {
       "output_type": "stream",
       "stream": "stdout",
       "text": [
        "[(64, 11), (256, 8), (1, 9), (257, 6), (450, 8)]\n",
        "Number of unmatched preferences to still check"
       ]
      },
      {
       "output_type": "stream",
       "stream": "stdout",
       "text": [
        " 963\n"
       ]
      },
      {
       "output_type": "stream",
       "stream": "stdout",
       "text": [
        "[(64, 10), (256, 7), (193, 11), (257, 5), (321, 16)]\n",
        "Number of unmatched preferences to still check"
       ]
      },
      {
       "output_type": "stream",
       "stream": "stdout",
       "text": [
        " 948\n"
       ]
      },
      {
       "output_type": "stream",
       "stream": "stdout",
       "text": [
        "[(64, 9), (256, 6), (193, 10), (257, 4), (321, 15)]\n",
        "Number of unmatched preferences to still check"
       ]
      },
      {
       "output_type": "stream",
       "stream": "stdout",
       "text": [
        " 961\n"
       ]
      },
      {
       "output_type": "stream",
       "stream": "stdout",
       "text": [
        "[(64, 8), (256, 5), (193, 9), (321, 14), (2, 17)]\n",
        "Number of unmatched preferences to still check"
       ]
      },
      {
       "output_type": "stream",
       "stream": "stdout",
       "text": [
        " 939\n"
       ]
      },
      {
       "output_type": "stream",
       "stream": "stdout",
       "text": [
        "[(64, 7), (256, 4), (193, 8), (321, 13), (2, 16)]\n",
        "Number of unmatched preferences to still check"
       ]
      },
      {
       "output_type": "stream",
       "stream": "stdout",
       "text": [
        " 903\n"
       ]
      },
      {
       "output_type": "stream",
       "stream": "stdout",
       "text": [
        "[(64, 6), (256, 3), (193, 7), (321, 12), (2, 15)]\n",
        "Number of unmatched preferences to still check"
       ]
      },
      {
       "output_type": "stream",
       "stream": "stdout",
       "text": [
        " 850\n"
       ]
      },
      {
       "output_type": "stream",
       "stream": "stdout",
       "text": [
        "[(64, 5), (256, 2), (193, 6), (321, 11), (2, 14)]\n",
        "Number of unmatched preferences to still check"
       ]
      },
      {
       "output_type": "stream",
       "stream": "stdout",
       "text": [
        " 862\n"
       ]
      },
      {
       "output_type": "stream",
       "stream": "stdout",
       "text": [
        "[(64, 4), (256, 1), (193, 5), (321, 10), (66, 14)]\n",
        "Number of unmatched preferences to still check"
       ]
      },
      {
       "output_type": "stream",
       "stream": "stdout",
       "text": [
        " 815\n"
       ]
      },
      {
       "output_type": "stream",
       "stream": "stdout",
       "text": [
        "[(64, 3), (193, 4), (321, 9), (66, 13), (258, 16)]\n",
        "Number of unmatched preferences to still check"
       ]
      },
      {
       "output_type": "stream",
       "stream": "stdout",
       "text": [
        " 755\n"
       ]
      },
      {
       "output_type": "stream",
       "stream": "stdout",
       "text": [
        "[(64, 2), (193, 3), (321, 8), (66, 12), (258, 15)]\n",
        "Number of unmatched preferences to still check"
       ]
      },
      {
       "output_type": "stream",
       "stream": "stdout",
       "text": [
        " 678\n"
       ]
      },
      {
       "output_type": "stream",
       "stream": "stdout",
       "text": [
        "[(64, 1), (193, 2), (321, 7), (66, 11), (258, 14)]\n",
        "Number of unmatched preferences to still check"
       ]
      },
      {
       "output_type": "stream",
       "stream": "stdout",
       "text": [
        " 653\n"
       ]
      },
      {
       "output_type": "stream",
       "stream": "stdout",
       "text": [
        "[(193, 1), (321, 6), (66, 10), (258, 13), (3, 1)]\n",
        "Number of unmatched preferences to still check"
       ]
      },
      {
       "output_type": "stream",
       "stream": "stdout",
       "text": [
        " 600\n"
       ]
      },
      {
       "output_type": "stream",
       "stream": "stdout",
       "text": [
        "[(258, 12), (194, 16), (67, 7), (132, 13), (4, 8)]\n",
        "Number of unmatched preferences to still check"
       ]
      },
      {
       "output_type": "stream",
       "stream": "stdout",
       "text": [
        " 587\n"
       ]
      },
      {
       "output_type": "stream",
       "stream": "stdout",
       "text": [
        "[(194, 15), (67, 6), (132, 12), (4, 7), (197, 2)]\n",
        "Number of unmatched preferences to still check"
       ]
      },
      {
       "output_type": "stream",
       "stream": "stdout",
       "text": [
        " 569\n"
       ]
      },
      {
       "output_type": "stream",
       "stream": "stdout",
       "text": [
        "[(194, 14), (67, 5), (4, 6), (197, 1), (453, 8)]\n",
        "Number of unmatched preferences to still check"
       ]
      },
      {
       "output_type": "stream",
       "stream": "stdout",
       "text": [
        " 508\n"
       ]
      },
      {
       "output_type": "stream",
       "stream": "stdout",
       "text": [
        "[(194, 13), (387, 18), (67, 4), (196, 12), (4, 5)]\n",
        "Number of unmatched preferences to still check"
       ]
      },
      {
       "output_type": "stream",
       "stream": "stdout",
       "text": [
        " 508\n"
       ]
      },
      {
       "output_type": "stream",
       "stream": "stdout",
       "text": [
        "[(194, 12), (387, 17), (67, 3), (196, 11), (4, 4)]\n",
        "Number of unmatched preferences to still check"
       ]
      },
      {
       "output_type": "stream",
       "stream": "stdout",
       "text": [
        " 438\n"
       ]
      },
      {
       "output_type": "stream",
       "stream": "stdout",
       "text": [
        "[(0, 8), (194, 11), (387, 16), (67, 2), (196, 10)]\n",
        "Number of unmatched preferences to still check"
       ]
      },
      {
       "output_type": "stream",
       "stream": "stdout",
       "text": [
        " 405\n"
       ]
      },
      {
       "output_type": "stream",
       "stream": "stdout",
       "text": [
        "[(0, 7), (387, 15), (67, 1), (68, 14), (196, 9)]\n",
        "Number of unmatched preferences to still check"
       ]
      },
      {
       "output_type": "stream",
       "stream": "stdout",
       "text": [
        " 379\n"
       ]
      },
      {
       "output_type": "stream",
       "stream": "stdout",
       "text": [
        "[(0, 6), (387, 14), (68, 13), (196, 8), (4, 1)]\n",
        "Number of unmatched preferences to still check"
       ]
      },
      {
       "output_type": "stream",
       "stream": "stdout",
       "text": [
        " 348\n"
       ]
      },
      {
       "output_type": "stream",
       "stream": "stdout",
       "text": [
        "[(0, 5), (387, 13), (196, 7), (453, 2), (198, 5)]\n",
        "Number of unmatched preferences to still check"
       ]
      },
      {
       "output_type": "stream",
       "stream": "stdout",
       "text": [
        " 308\n"
       ]
      },
      {
       "output_type": "stream",
       "stream": "stdout",
       "text": [
        "[(0, 4), (387, 12), (196, 6), (453, 1), (198, 4)]\n",
        "Number of unmatched preferences to still check"
       ]
      },
      {
       "output_type": "stream",
       "stream": "stdout",
       "text": [
        " 324\n"
       ]
      },
      {
       "output_type": "stream",
       "stream": "stdout",
       "text": [
        "[(0, 3), (387, 11), (198, 3), (392, 15), (201, 5)]\n",
        "Number of unmatched preferences to still check"
       ]
      },
      {
       "output_type": "stream",
       "stream": "stdout",
       "text": [
        " 312\n"
       ]
      },
      {
       "output_type": "stream",
       "stream": "stdout",
       "text": [
        "[(0, 2), (326, 12), (198, 2), (392, 14), (458, 14)]\n",
        "Number of unmatched preferences to still check"
       ]
      },
      {
       "output_type": "stream",
       "stream": "stdout",
       "text": [
        " 307\n"
       ]
      },
      {
       "output_type": "stream",
       "stream": "stdout",
       "text": [
        "[(326, 11), (198, 1), (392, 13), (458, 13), (459, 9)]\n",
        "Number of unmatched preferences to still check"
       ]
      },
      {
       "output_type": "stream",
       "stream": "stdout",
       "text": [
        " 290\n"
       ]
      },
      {
       "output_type": "stream",
       "stream": "stdout",
       "text": [
        "[(326, 10), (392, 12), (458, 12), (459, 8), (140, 17)]\n",
        "Number of unmatched preferences to still check"
       ]
      },
      {
       "output_type": "stream",
       "stream": "stdout",
       "text": [
        " 262\n"
       ]
      },
      {
       "output_type": "stream",
       "stream": "stdout",
       "text": [
        "[(326, 9), (392, 11), (458, 11), (459, 7), (140, 16)]\n",
        "Number of unmatched preferences to still check"
       ]
      },
      {
       "output_type": "stream",
       "stream": "stdout",
       "text": [
        " 236\n"
       ]
      },
      {
       "output_type": "stream",
       "stream": "stdout",
       "text": [
        "[(68, 12), (326, 8), (392, 10), (458, 10), (459, 6)]\n",
        "Number of unmatched preferences to still check"
       ]
      },
      {
       "output_type": "stream",
       "stream": "stdout",
       "text": [
        " 216\n"
       ]
      },
      {
       "output_type": "stream",
       "stream": "stdout",
       "text": [
        "[(68, 11), (326, 7), (392, 9), (458, 9), (459, 5)]\n",
        "Number of unmatched preferences to still check"
       ]
      },
      {
       "output_type": "stream",
       "stream": "stdout",
       "text": [
        " 195\n"
       ]
      },
      {
       "output_type": "stream",
       "stream": "stdout",
       "text": [
        "[(68, 10), (326, 6), (392, 8), (458, 8), (459, 4)]\n",
        "Number of unmatched preferences to still check"
       ]
      },
      {
       "output_type": "stream",
       "stream": "stdout",
       "text": [
        " 170\n"
       ]
      },
      {
       "output_type": "stream",
       "stream": "stdout",
       "text": [
        "[(68, 9), (326, 5), (392, 7), (458, 7), (459, 3)]\n",
        "Number of unmatched preferences to still check"
       ]
      },
      {
       "output_type": "stream",
       "stream": "stdout",
       "text": [
        " 159\n"
       ]
      },
      {
       "output_type": "stream",
       "stream": "stdout",
       "text": [
        "[(68, 8), (326, 4), (391, 18), (392, 6), (458, 6)]\n",
        "Number of unmatched preferences to still check"
       ]
      },
      {
       "output_type": "stream",
       "stream": "stdout",
       "text": [
        " 151\n"
       ]
      },
      {
       "output_type": "stream",
       "stream": "stdout",
       "text": [
        "[(1, 8), (68, 7), (326, 3), (391, 17), (392, 5)]\n",
        "Number of unmatched preferences to still check"
       ]
      },
      {
       "output_type": "stream",
       "stream": "stdout",
       "text": [
        " 143\n"
       ]
      },
      {
       "output_type": "stream",
       "stream": "stdout",
       "text": [
        "[(68, 6), (326, 2), (391, 16), (392, 4), (8, 9)]\n",
        "Number of unmatched preferences to still check"
       ]
      },
      {
       "output_type": "stream",
       "stream": "stdout",
       "text": [
        " 120\n"
       ]
      },
      {
       "output_type": "stream",
       "stream": "stdout",
       "text": [
        "[(68, 5), (326, 1), (391, 15), (392, 3), (8, 8)]\n",
        "Number of unmatched preferences to still check"
       ]
      },
      {
       "output_type": "stream",
       "stream": "stdout",
       "text": [
        " 101\n"
       ]
      },
      {
       "output_type": "stream",
       "stream": "stdout",
       "text": [
        "[(68, 4), (391, 14), (392, 2), (8, 7), (140, 7)]\n",
        "Number of unmatched preferences to still check"
       ]
      },
      {
       "output_type": "stream",
       "stream": "stdout",
       "text": [
        " 85\n"
       ]
      },
      {
       "output_type": "stream",
       "stream": "stdout",
       "text": [
        "[(68, 3), (391, 13), (392, 1), (8, 6), (140, 6)]\n",
        "Number of unmatched preferences to still check"
       ]
      },
      {
       "output_type": "stream",
       "stream": "stdout",
       "text": [
        " 83\n"
       ]
      },
      {
       "output_type": "stream",
       "stream": "stdout",
       "text": [
        "[(68, 2), (391, 12), (8, 5), (140, 5), (271, 3)]\n",
        "Number of unmatched preferences to still check"
       ]
      },
      {
       "output_type": "stream",
       "stream": "stdout",
       "text": [
        " 70\n"
       ]
      },
      {
       "output_type": "stream",
       "stream": "stdout",
       "text": [
        "[(68, 1), (391, 11), (8, 4), (140, 4), (271, 2)]\n",
        "Number of unmatched preferences to still check"
       ]
      },
      {
       "output_type": "stream",
       "stream": "stdout",
       "text": [
        " 60\n"
       ]
      },
      {
       "output_type": "stream",
       "stream": "stdout",
       "text": [
        "[(391, 10), (8, 3), (140, 3), (271, 1), (238, 5)]\n",
        "Number of unmatched preferences to still check"
       ]
      },
      {
       "output_type": "stream",
       "stream": "stdout",
       "text": [
        " 50\n"
       ]
      },
      {
       "output_type": "stream",
       "stream": "stdout",
       "text": [
        "[(391, 9), (8, 2), (140, 2), (238, 4), (239, 6)]\n",
        "Number of unmatched preferences to still check"
       ]
      },
      {
       "output_type": "stream",
       "stream": "stdout",
       "text": [
        " 59\n"
       ]
      },
      {
       "output_type": "stream",
       "stream": "stdout",
       "text": [
        "[(391, 8), (8, 1), (140, 1), (238, 3), (239, 5)]\n",
        "Number of unmatched preferences to still check"
       ]
      },
      {
       "output_type": "stream",
       "stream": "stdout",
       "text": [
        " 51\n"
       ]
      },
      {
       "output_type": "stream",
       "stream": "stdout",
       "text": [
        "[(391, 7), (238, 2), (239, 4), (55, 15), (185, 4)]\n",
        "Number of unmatched preferences to still check"
       ]
      },
      {
       "output_type": "stream",
       "stream": "stdout",
       "text": [
        " 43\n"
       ]
      },
      {
       "output_type": "stream",
       "stream": "stdout",
       "text": [
        "[(391, 6), (238, 1), (239, 3), (55, 14), (185, 3)]\n",
        "Number of unmatched preferences to still check"
       ]
      },
      {
       "output_type": "stream",
       "stream": "stdout",
       "text": [
        " 37\n"
       ]
      },
      {
       "output_type": "stream",
       "stream": "stdout",
       "text": [
        "[(391, 5), (239, 2), (55, 13), (185, 2), (127, 9)]\n",
        "Number of unmatched preferences to still check"
       ]
      },
      {
       "output_type": "stream",
       "stream": "stdout",
       "text": [
        " 31\n"
       ]
      },
      {
       "output_type": "stream",
       "stream": "stdout",
       "text": [
        "[(391, 4), (239, 1), (55, 12), (185, 1), (127, 8)]\n",
        "Number of unmatched preferences to still check"
       ]
      },
      {
       "output_type": "stream",
       "stream": "stdout",
       "text": [
        " 26\n"
       ]
      },
      {
       "output_type": "stream",
       "stream": "stdout",
       "text": [
        "[(391, 3), (55, 11), (127, 7)]\n",
        "Number of unmatched preferences to still check"
       ]
      },
      {
       "output_type": "stream",
       "stream": "stdout",
       "text": [
        " 21\n"
       ]
      },
      {
       "output_type": "stream",
       "stream": "stdout",
       "text": [
        "[(391, 2), (55, 10), (127, 6)]\n",
        "Number of unmatched preferences to still check"
       ]
      },
      {
       "output_type": "stream",
       "stream": "stdout",
       "text": [
        " 18\n"
       ]
      },
      {
       "output_type": "stream",
       "stream": "stdout",
       "text": [
        "[(391, 1), (55, 9), (127, 5)]\n",
        "Number of unmatched preferences to still check"
       ]
      },
      {
       "output_type": "stream",
       "stream": "stdout",
       "text": [
        " 15\n"
       ]
      },
      {
       "output_type": "stream",
       "stream": "stdout",
       "text": [
        "[(55, 8), (127, 4)]\n",
        "Number of unmatched preferences to still check"
       ]
      },
      {
       "output_type": "stream",
       "stream": "stdout",
       "text": [
        " 12\n"
       ]
      },
      {
       "output_type": "stream",
       "stream": "stdout",
       "text": [
        "[(55, 7), (127, 3)]\n",
        "Number of unmatched preferences to still check"
       ]
      },
      {
       "output_type": "stream",
       "stream": "stdout",
       "text": [
        " 10\n"
       ]
      },
      {
       "output_type": "stream",
       "stream": "stdout",
       "text": [
        "[(55, 6), (127, 2)]\n",
        "Number of unmatched preferences to still check"
       ]
      },
      {
       "output_type": "stream",
       "stream": "stdout",
       "text": [
        " 8\n"
       ]
      },
      {
       "output_type": "stream",
       "stream": "stdout",
       "text": [
        "[(55, 5), (127, 1)]\n",
        "Number of unmatched preferences to still check"
       ]
      },
      {
       "output_type": "stream",
       "stream": "stdout",
       "text": [
        " 6\n"
       ]
      },
      {
       "output_type": "stream",
       "stream": "stdout",
       "text": [
        "[(266, 10), (55, 4)]\n",
        "Number of unmatched preferences to still check"
       ]
      },
      {
       "output_type": "stream",
       "stream": "stdout",
       "text": [
        " 14\n"
       ]
      },
      {
       "output_type": "stream",
       "stream": "stdout",
       "text": [
        "[(266, 9), (55, 3)]\n",
        "Number of unmatched preferences to still check"
       ]
      },
      {
       "output_type": "stream",
       "stream": "stdout",
       "text": [
        " 12\n"
       ]
      },
      {
       "output_type": "stream",
       "stream": "stdout",
       "text": [
        "[(266, 8), (55, 2)]\n",
        "Number of unmatched preferences to still check"
       ]
      },
      {
       "output_type": "stream",
       "stream": "stdout",
       "text": [
        " 10\n"
       ]
      },
      {
       "output_type": "stream",
       "stream": "stdout",
       "text": [
        "[(394, 14), (55, 1)]\n",
        "Number of unmatched preferences to still check"
       ]
      },
      {
       "output_type": "stream",
       "stream": "stdout",
       "text": [
        " 15\n"
       ]
      },
      {
       "output_type": "stream",
       "stream": "stdout",
       "text": [
        "[(394, 13)]\n",
        "Number of unmatched preferences to still check"
       ]
      },
      {
       "output_type": "stream",
       "stream": "stdout",
       "text": [
        " 13\n"
       ]
      },
      {
       "output_type": "stream",
       "stream": "stdout",
       "text": [
        "[(394, 12)]\n",
        "Number of unmatched preferences to still check"
       ]
      },
      {
       "output_type": "stream",
       "stream": "stdout",
       "text": [
        " 12\n"
       ]
      },
      {
       "output_type": "stream",
       "stream": "stdout",
       "text": [
        "[(394, 11)]\n",
        "Number of unmatched preferences to still check"
       ]
      },
      {
       "output_type": "stream",
       "stream": "stdout",
       "text": [
        " 11\n"
       ]
      },
      {
       "output_type": "stream",
       "stream": "stdout",
       "text": [
        "[(394, 10)]\n",
        "Number of unmatched preferences to still check"
       ]
      },
      {
       "output_type": "stream",
       "stream": "stdout",
       "text": [
        " 10\n"
       ]
      },
      {
       "output_type": "stream",
       "stream": "stdout",
       "text": [
        "[(394, 9)]\n",
        "Number of unmatched preferences to still check"
       ]
      },
      {
       "output_type": "stream",
       "stream": "stdout",
       "text": [
        " 9\n"
       ]
      },
      {
       "output_type": "stream",
       "stream": "stdout",
       "text": [
        "[(394, 8)]\n",
        "Number of unmatched preferences to still check"
       ]
      },
      {
       "output_type": "stream",
       "stream": "stdout",
       "text": [
        " 8\n"
       ]
      },
      {
       "output_type": "stream",
       "stream": "stdout",
       "text": [
        "[(394, 7)]\n",
        "Number of unmatched preferences to still check"
       ]
      },
      {
       "output_type": "stream",
       "stream": "stdout",
       "text": [
        " 7\n"
       ]
      },
      {
       "output_type": "stream",
       "stream": "stdout",
       "text": [
        "[(394, 6)]\n",
        "Number of unmatched preferences to still check"
       ]
      },
      {
       "output_type": "stream",
       "stream": "stdout",
       "text": [
        " 6\n"
       ]
      },
      {
       "output_type": "stream",
       "stream": "stdout",
       "text": [
        "[(394, 5)]\n",
        "Number of unmatched preferences to still check"
       ]
      },
      {
       "output_type": "stream",
       "stream": "stdout",
       "text": [
        " 5\n"
       ]
      },
      {
       "output_type": "stream",
       "stream": "stdout",
       "text": [
        "[(394, 4)]\n",
        "Number of unmatched preferences to still check"
       ]
      },
      {
       "output_type": "stream",
       "stream": "stdout",
       "text": [
        " 4\n"
       ]
      },
      {
       "output_type": "stream",
       "stream": "stdout",
       "text": [
        "[(394, 3)]\n",
        "Number of unmatched preferences to still check"
       ]
      },
      {
       "output_type": "stream",
       "stream": "stdout",
       "text": [
        " 3\n"
       ]
      },
      {
       "output_type": "stream",
       "stream": "stdout",
       "text": [
        "[(394, 2)]\n",
        "Number of unmatched preferences to still check"
       ]
      },
      {
       "output_type": "stream",
       "stream": "stdout",
       "text": [
        " 2\n"
       ]
      },
      {
       "output_type": "stream",
       "stream": "stdout",
       "text": [
        "[(394, 1)]\n",
        "Number of unmatched preferences to still check"
       ]
      },
      {
       "output_type": "stream",
       "stream": "stdout",
       "text": [
        " 1\n"
       ]
      }
     ],
     "prompt_number": 15
    },
    {
     "cell_type": "code",
     "collapsed": false,
     "input": [
      "# Given a match that a doctor had and the original preferences, determine all of the hospitals the doctor would have preferred.\n",
      "def getpreferredhospitals(match, preferences):\n",
      "    # If you weren't matched, you would have preferred any of the original ranked ones\n",
      "    if match == -1:\n",
      "        return preferences\n",
      "    # If you were matched, you would have preferred everything up until that one.\n",
      "    return preferences[:preferences.index(match)]\n",
      "# Given the matches that a hospital got, determine all of the doctors the hospital would have preferred\n",
      "def getpreferreddoctors(matches, preferences):\n",
      "    # Figure out out which of the preferences were actually picked\n",
      "    indicies = [preferences.index(match) for match in matches]\n",
      "    max_index = max(indicies)\n",
      "    # Get all of the people up until the worst person picked\n",
      "    best_people = set(preferences[:max_index])\n",
      "    # Remove the people that were successfully picked\n",
      "    better_people = best_people - set(matches)\n",
      "    return list(best_people)\n",
      "    \n",
      "# Checks if all of the matches are valid\n",
      "def verify_matches(doc_matches, hos_matches, original_doc_prefs, original_hos_prefs):\n",
      "    doctor_to_hospital_preferences = doc_matches.join(original_doc_prefs).mapValues(lambda (match, preferences): getpreferredhospitals(match, preferences)).flatMapValues(lambda x: x)\n",
      "    hospital_to_doctor_preferences = hos_matches.join(original_hos_prefs).mapValues(lambda (matches, preferences): getpreferreddoctors(matches, preferences)).flatMapValues(lambda x: x).partitionBy(numPartitions)\n",
      "    flip_prefs = doctor_to_hospital_preferences.map(lambda (x,y): (y,x)).partitionBy(numPartitions)\n",
      "    return flip_prefs.intersection(hospital_to_doctor_preferences)\n",
      "\n",
      "        "
     ],
     "language": "python",
     "metadata": {},
     "outputs": [],
     "prompt_number": 123
    },
    {
     "cell_type": "code",
     "collapsed": false,
     "input": [
      "bad_results = verify_matches(doctor_matchings, hospital_matchings, doctor_RDD, hospital_RDD)\n",
      "# If the assertion passes, then this is a stable matching!\n",
      "assert(bad_results.count() == 0)"
     ],
     "language": "python",
     "metadata": {},
     "outputs": [
      {
       "metadata": {},
       "output_type": "pyout",
       "prompt_number": 124,
       "text": [
        "[]"
       ]
      }
     ],
     "prompt_number": 124
    },
    {
     "cell_type": "code",
     "collapsed": false,
     "input": [],
     "language": "python",
     "metadata": {},
     "outputs": []
    },
    {
     "cell_type": "code",
     "collapsed": false,
     "input": [],
     "language": "python",
     "metadata": {},
     "outputs": [
      {
       "metadata": {},
       "output_type": "pyout",
       "prompt_number": 16,
       "text": [
        "[[29, 2, 19, 22, 37, 27, 3, 24, 33, 26, 31, 43, 9, 32, 42, 34, 14, 23, 10, 6]]"
       ]
      }
     ],
     "prompt_number": 16
    },
    {
     "cell_type": "code",
     "collapsed": false,
     "input": [],
     "language": "python",
     "metadata": {},
     "outputs": [],
     "prompt_number": 17
    },
    {
     "cell_type": "code",
     "collapsed": false,
     "input": [],
     "language": "python",
     "metadata": {},
     "outputs": [],
     "prompt_number": 18
    },
    {
     "cell_type": "code",
     "collapsed": false,
     "input": [],
     "language": "python",
     "metadata": {},
     "outputs": [
      {
       "metadata": {},
       "output_type": "pyout",
       "prompt_number": 19,
       "text": [
        "(0, [17, 323, 337, 155, 364, 49, 308, 129])"
       ]
      }
     ],
     "prompt_number": 19
    },
    {
     "cell_type": "code",
     "collapsed": false,
     "input": [],
     "language": "python",
     "metadata": {},
     "outputs": [],
     "prompt_number": 20
    },
    {
     "cell_type": "code",
     "collapsed": false,
     "input": [],
     "language": "python",
     "metadata": {},
     "outputs": [
      {
       "output_type": "stream",
       "stream": "stdout",
       "text": [
        "[(0, 395), (0, 17), (0, 150), (0, 155), (0, 157)]\n",
        "[(0, 256), (0, 448), (0, 1), (0, 321), (0, 3)]"
       ]
      },
      {
       "output_type": "stream",
       "stream": "stdout",
       "text": [
        "\n"
       ]
      }
     ],
     "prompt_number": 21
    },
    {
     "cell_type": "code",
     "collapsed": false,
     "input": [],
     "language": "python",
     "metadata": {},
     "outputs": [],
     "prompt_number": 181
    },
    {
     "cell_type": "code",
     "collapsed": false,
     "input": [],
     "language": "python",
     "metadata": {},
     "outputs": [
      {
       "metadata": {},
       "output_type": "pyout",
       "prompt_number": 150,
       "text": [
        "[[19, 16, 13, 2, 3, 6, 9, 1, 0, 11, 7, 12, 18, 10, 14]]"
       ]
      }
     ],
     "prompt_number": 150
    },
    {
     "cell_type": "code",
     "collapsed": false,
     "input": [],
     "language": "python",
     "metadata": {},
     "outputs": [
      {
       "metadata": {},
       "output_type": "pyout",
       "prompt_number": 154,
       "text": [
        "[[18, 10, 14]]"
       ]
      }
     ],
     "prompt_number": 154
    },
    {
     "cell_type": "code",
     "collapsed": false,
     "input": [],
     "language": "python",
     "metadata": {},
     "outputs": [
      {
       "metadata": {},
       "output_type": "pyout",
       "prompt_number": 139,
       "text": [
        "0"
       ]
      }
     ],
     "prompt_number": 139
    },
    {
     "cell_type": "code",
     "collapsed": false,
     "input": [],
     "language": "python",
     "metadata": {},
     "outputs": []
    }
   ],
   "metadata": {}
  }
 ]
}