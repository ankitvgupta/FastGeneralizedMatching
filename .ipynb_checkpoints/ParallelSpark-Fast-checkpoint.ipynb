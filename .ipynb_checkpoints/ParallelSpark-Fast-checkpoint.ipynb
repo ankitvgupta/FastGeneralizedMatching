{
 "metadata": {
  "name": "",
  "signature": "sha256:97ac4cd9bb674086a6518098a2ad9ff4e0fb05f3ed410b79f727b522da08b90f"
 },
 "nbformat": 3,
 "nbformat_minor": 0,
 "worksheets": [
  {
   "cells": [
    {
     "cell_type": "code",
     "collapsed": false,
     "input": [
      "import findspark\n",
      "findspark.init()\n",
      "\n",
      "import pyspark\n",
      "sc = pyspark.SparkContext(appName=\"Spark1\")\n",
      "sc.setCheckpointDir(\"checkpoints\")\n",
      "\n",
      "import numpy as np\n",
      "import itertools\n",
      "\n",
      "# Reduce the amount that Spark logs to the console.\n",
      "logger = sc._jvm.org.apache.log4j\n",
      "logger.LogManager.getLogger(\"org\"). setLevel( logger.Level.ERROR )\n",
      "logger.LogManager.getLogger(\"akka\").setLevel( logger.Level.ERROR )"
     ],
     "language": "python",
     "metadata": {},
     "outputs": [],
     "prompt_number": 1
    },
    {
     "cell_type": "code",
     "collapsed": false,
     "input": [
      "import sys"
     ],
     "language": "python",
     "metadata": {},
     "outputs": [],
     "prompt_number": 2
    },
    {
     "cell_type": "code",
     "collapsed": false,
     "input": [
      "def copartitioned(RDD1, RDD2):\n",
      "    \"check if two RDDs are copartitioned\"\n",
      "    return RDD1.partitioner == RDD2.partitioner"
     ],
     "language": "python",
     "metadata": {},
     "outputs": [],
     "prompt_number": 3
    },
    {
     "cell_type": "code",
     "collapsed": false,
     "input": [
      "spots_per_hospital = 6\n",
      "numPartitions = 4"
     ],
     "language": "python",
     "metadata": {},
     "outputs": [],
     "prompt_number": 4
    },
    {
     "cell_type": "code",
     "collapsed": false,
     "input": [
      "# These RDD are KV pairs, where the key is the ID of the doctor/hospital, and the values are the IDs of the respective \n",
      "# doctors or hospitals in order of preference.\n",
      "# By this, I mean that hospitals have a set of preferences over doctors, and doctors have preferences over hospitals\n",
      "doctor_RDD = sc.textFile('doctor_preferences.txt', numPartitions).map(lambda x: map(int, x.split())).zipWithIndex()\\\n",
      "                                                        .map(lambda (x, y): (y, x)).partitionBy(numPartitions).cache()\n",
      "hospital_RDD = sc.textFile('hospital_preferences.txt', numPartitions).map(lambda x: map(int, x.split())).zipWithIndex()\\\n",
      "                                                        .map(lambda (x, y): (y, x)).partitionBy(numPartitions).cache()"
     ],
     "language": "python",
     "metadata": {},
     "outputs": [],
     "prompt_number": 5
    },
    {
     "cell_type": "code",
     "collapsed": false,
     "input": [
      "\n",
      "\n",
      "assert(copartitioned(doctor_RDD, hospital_RDD))\n"
     ],
     "language": "python",
     "metadata": {},
     "outputs": [],
     "prompt_number": 6
    },
    {
     "cell_type": "code",
     "collapsed": false,
     "input": [],
     "language": "python",
     "metadata": {},
     "outputs": [],
     "prompt_number": 6
    },
    {
     "cell_type": "code",
     "collapsed": false,
     "input": [],
     "language": "python",
     "metadata": {},
     "outputs": [],
     "prompt_number": 6
    },
    {
     "cell_type": "code",
     "collapsed": false,
     "input": [
      "# Preferences is a list of ints in order that you want them\n",
      "# pickingfrom is the ones you are picking from\n",
      "# N is how many you are picking\n",
      "# Ex: pick_top_N([3, 4, 5, 1, 2, 7, 8], [7, 1, 2, 4, 5], 3) -> [4, 5, 1]\n",
      "def pick_top_N(preferences, pickingfrom, N):\n",
      "    pickingfrom.sort(key=lambda x: preferences.index(x))\n",
      "    return pickingfrom[:N]\n",
      "\n",
      "    "
     ],
     "language": "python",
     "metadata": {},
     "outputs": [],
     "prompt_number": 7
    },
    {
     "cell_type": "code",
     "collapsed": false,
     "input": [
      "def pick_best_program(pickingfrom, preferences):\n",
      "    \n",
      "    if pickingfrom == None:\n",
      "        return -1\n",
      "    pickingfrom = list(pickingfrom)\n",
      "    if len(pickingfrom) == 0:\n",
      "        return -1\n",
      "    pickingfrom.sort(key=lambda x: preferences.index(x))\n",
      "    return pickingfrom[0]"
     ],
     "language": "python",
     "metadata": {},
     "outputs": [],
     "prompt_number": 8
    },
    {
     "cell_type": "code",
     "collapsed": false,
     "input": [],
     "language": "python",
     "metadata": {},
     "outputs": [],
     "prompt_number": 8
    },
    {
     "cell_type": "code",
     "collapsed": false,
     "input": [
      "def combine_old_new(newoptions, oldoptions, preferences):\n",
      "    if newoptions == None:\n",
      "        newoptions = []\n",
      "    if oldoptions == None:\n",
      "        oldoptions = []\n",
      "    alloptions = list(set(newoptions).union(set(oldoptions)))\n",
      "    return pick_top_N(preferences, alloptions, spots_per_hospital)\n"
     ],
     "language": "python",
     "metadata": {},
     "outputs": [],
     "prompt_number": 9
    },
    {
     "cell_type": "code",
     "collapsed": false,
     "input": [
      "def accept_new_hospital_assignment(old, new):\n",
      "    if new == None:\n",
      "        return -1\n",
      "    return new"
     ],
     "language": "python",
     "metadata": {},
     "outputs": [],
     "prompt_number": 10
    },
    {
     "cell_type": "code",
     "collapsed": false,
     "input": [
      "# If unmatched (match == -1), then we are gonna use try to use the next pref, so one remove from the list\n",
      "def remove_pref_if_needed(prefs, match):\n",
      "    # If unmatched and pref remaining, remove it.\n",
      "    if match == -1 and len(prefs) > 0:\n",
      "        return prefs[1:]\n",
      "    # Else return original prefs\n",
      "    return prefs"
     ],
     "language": "python",
     "metadata": {},
     "outputs": [],
     "prompt_number": 11
    },
    {
     "cell_type": "code",
     "collapsed": false,
     "input": [
      "def is_changed(old, new):\n",
      "    if old == -1 and new == None:\n",
      "        return False\n",
      "    elif old == -1 and new != None:\n",
      "        return True\n",
      "    return old != new\n",
      "    "
     ],
     "language": "python",
     "metadata": {},
     "outputs": [],
     "prompt_number": 12
    },
    {
     "cell_type": "code",
     "collapsed": false,
     "input": [
      "doctor_prefs = doctor_RDD.map(lambda x: x).partitionBy(numPartitions).cache()"
     ],
     "language": "python",
     "metadata": {},
     "outputs": [],
     "prompt_number": 13
    },
    {
     "cell_type": "code",
     "collapsed": false,
     "input": [
      "doctor_matchings = doctor_RDD.mapValues(lambda x : -1).partitionBy(numPartitions).cache()\n",
      "hospital_matchings = hospital_RDD.mapValues(lambda x: []).partitionBy(numPartitions).cache()"
     ],
     "language": "python",
     "metadata": {},
     "outputs": [],
     "prompt_number": 14
    },
    {
     "cell_type": "code",
     "collapsed": false,
     "input": [
      "def get_better_prefs(prefs, match):\n",
      "    if match == -1:\n",
      "        return prefs\n",
      "    return prefs[:prefs.index(match)+1]"
     ],
     "language": "python",
     "metadata": {},
     "outputs": [],
     "prompt_number": 15
    },
    {
     "cell_type": "code",
     "collapsed": false,
     "input": [
      "def update_hospital_matches(new_matches, old_matches):\n",
      "    if new_matches == None:\n",
      "        return old_matches\n",
      "    return new_matches"
     ],
     "language": "python",
     "metadata": {},
     "outputs": [],
     "prompt_number": 16
    },
    {
     "cell_type": "code",
     "collapsed": false,
     "input": [
      "iteration = 0\n",
      "steps_per_checkpoint = 5\n",
      "while True:\n",
      "    iteration += 1\n",
      "    # These are the top remaining choices for the unmatched doctors\n",
      "    assert(copartitioned(doctor_prefs, doctor_matchings))\n",
      "    doctor_filtered = doctor_prefs.join(doctor_matchings).mapValues(lambda (prefs, match): get_better_prefs(prefs, match))\n",
      "    applications_per_hospital = doctor_filtered.flatMapValues(lambda x:x).map(lambda (x,y):(y,x)).partitionBy(numPartitions).groupByKey().partitionBy(numPartitions)\n",
      "    assert(copartitioned(applications_per_hospital, hospital_matchings))\n",
      "    assert(copartitioned(hospital_matchings, hospital_RDD))\n",
      "    joined_with_old_matches = applications_per_hospital.rightOuterJoin(hospital_matchings).join(hospital_RDD).mapValues(lambda ((new,old), preferences): combine_old_new(new, old, preferences))\n",
      "    acceptances_per_doctor = joined_with_old_matches.flatMapValues(lambda x:x).map(lambda (x,y):(y,x)).partitionBy(numPartitions).groupByKey()\n",
      "    assert(copartitioned(acceptances_per_doctor, doctor_RDD))\n",
      "    new_matchings = acceptances_per_doctor.rightOuterJoin(doctor_RDD).mapValues(lambda (programs,preferences): pick_best_program(programs, preferences))\n",
      "    assert(copartitioned(new_matchings, doctor_matchings))\n",
      "    num_changes = new_matchings.join(doctor_matchings).filter(lambda (doc, (new, old)): new != old).count()\n",
      "    #print new_matchings.join(doctor_matchings).filter(lambda (doc, (new, old)): new != old).take(30)\n",
      "    print num_changes\n",
      "    doctor_matchings = new_matchings\n",
      "    hospital_new_versions = doctor_matchings.filter(lambda (doc, match): match != -1).map(lambda (x,y) : (y,x)).partitionBy(numPartitions).groupByKey()\n",
      "    hospital_matchings = hospital_new_versions.rightOuterJoin(hospital_matchings).mapValues(lambda (new_matches, old_matches): update_hospital_matches(new_matches, old_matches))\n",
      "    \n",
      "    \n",
      "    \n",
      "    doctor_matchings.cache()\n",
      "    hospital_matchings.cache()\n",
      "    if num_changes == 0:\n",
      "        break\n",
      "    \n",
      "    \n",
      "    #assert(copartitioned(doctor_prefs, doctor_matchings))\n",
      "    #unmatched_doctors_joined = doctor_prefs.join(doctor_matchings).filter(lambda (doc, (prefs, match)): match == -1 and len(prefs) > 0).cache()\n",
      "    #num_unmatched = unmatched_doctors_joined.count() \n",
      "    #print \"Number doctors to work on:\", num_unmatched\n",
      "    #if num_unmatched == 0:\n",
      "    #    break\n",
      "    #unmatched_doctor_preferences = unmatched_doctors_joined.mapValues(lambda (prefs, match): prefs).cache()\n",
      "    # Update all of the doctor prefs by removing the first pref from each unmatched doctor\n",
      "    #assert(copartitioned(doctor_prefs, doctor_matchings))\n",
      "    # Force a checkpoint and evaluation to avoid StackOverflowError\n",
      "    #doctor_prefs = doctor_prefs.join(doctor_matchings).mapValues(lambda (prefs, match): remove_pref_if_needed(prefs, match)).cache()\n",
      "    #if iteration % steps_per_checkpoint == 0:\n",
      "    #    doctor_prefs.checkpoint()\n",
      "    #    doctor_prefs.count()\n",
      "    # Take the first pref from each unmatched doctor \n",
      "    #doctor_proposals = unmatched_doctor_preferences.mapValues(lambda x: x[0]).cache()\n",
      "    # Group the requests by hospital\n",
      "    #hospital_groupings = doctor_proposals.map(lambda (x, y) : (y, x)).partitionBy(numPartitions).groupByKey().cache()\n",
      "    # Join the new requests for each hospital with what they previously had and their preferences\n",
      "    #assert(copartitioned(hospital_groupings, hospital_matchings))\n",
      "    #assert(copartitioned(hospital_groupings, hospital_RDD))\n",
      "    #joined_hospital = hospital_groupings.rightOuterJoin(hospital_matchings).join(hospital_RDD).cache()\n",
      "    # Determine the best ones\n",
      "    # Force a checkpoint and evaluation to avoid a StackOverflow\n",
      "    #hospital_matchings = joined_hospital.mapValues(lambda ((new, old), preferences): combine_old_new(new, old, preferences)).cache()\n",
      "    #if iteration % steps_per_checkpoint == 0:\n",
      "    #    hospital_matchings.checkpoint()\n",
      "    #    hospital_matchings.count()\n",
      "    # Inform the doctors of the match\n",
      "    #matched_doctors = hospital_matchings.flatMapValues(lambda x: x).map(lambda (x, y) : (y, x)).partitionBy(numPartitions).cache()\n",
      "    # Update the doctor matchings\n",
      "    #assert(copartitioned(doctor_matchings, matched_doctors))\n",
      "\n",
      "    # Force a checkpoint and evaluation to avoid StackOverflowError\n",
      "    #doctor_matchings = doctor_matchings.leftOuterJoin(matched_doctors).mapValues(lambda (old,new) : accept_new_hospital_assignment(old, new)).cache()\n",
      "    #if iteration % steps_per_checkpoint == 0:\n",
      "    #    doctor_matchings.checkpoint()\n",
      "    #    doctor_matchings.count()\n",
      "    #sys.stdout.flush()"
     ],
     "language": "python",
     "metadata": {},
     "outputs": [
      {
       "output_type": "stream",
       "stream": "stdout",
       "text": [
        "21555\n",
        "7518"
       ]
      },
      {
       "output_type": "stream",
       "stream": "stdout",
       "text": [
        "\n",
        "3188"
       ]
      },
      {
       "output_type": "stream",
       "stream": "stdout",
       "text": [
        "\n",
        "1526"
       ]
      },
      {
       "output_type": "stream",
       "stream": "stdout",
       "text": [
        "\n",
        "743"
       ]
      },
      {
       "output_type": "stream",
       "stream": "stdout",
       "text": [
        "\n",
        "386"
       ]
      },
      {
       "output_type": "stream",
       "stream": "stdout",
       "text": [
        "\n",
        "187"
       ]
      },
      {
       "output_type": "stream",
       "stream": "stdout",
       "text": [
        "\n",
        "89"
       ]
      },
      {
       "output_type": "stream",
       "stream": "stdout",
       "text": [
        "\n",
        "41"
       ]
      },
      {
       "output_type": "stream",
       "stream": "stdout",
       "text": [
        "\n",
        "20"
       ]
      },
      {
       "output_type": "stream",
       "stream": "stdout",
       "text": [
        "\n",
        "10"
       ]
      },
      {
       "output_type": "stream",
       "stream": "stdout",
       "text": [
        "\n",
        "5"
       ]
      },
      {
       "output_type": "stream",
       "stream": "stdout",
       "text": [
        "\n",
        "1"
       ]
      },
      {
       "output_type": "stream",
       "stream": "stdout",
       "text": [
        "\n",
        "0"
       ]
      },
      {
       "output_type": "stream",
       "stream": "stdout",
       "text": [
        "\n"
       ]
      }
     ],
     "prompt_number": 17
    },
    {
     "cell_type": "code",
     "collapsed": false,
     "input": [
      "# Given a match that a doctor had and the original preferences, determine all of the hospitals the doctor would have preferred.\n",
      "def getpreferredhospitals(match, preferences):\n",
      "    # If you weren't matched, you would have preferred any of the original ranked ones\n",
      "    if match == -1:\n",
      "        return preferences\n",
      "    # If you were matched, you would have preferred everything up until that one.\n",
      "    return preferences[:preferences.index(match)]\n",
      "# Given the matches that a hospital got, determine all of the doctors the hospital would have preferred\n",
      "def getpreferreddoctors(matches, preferences):\n",
      "    # Figure out out which of the preferences were actually picked\n",
      "    if len(matches) == 0:\n",
      "        return matches\n",
      "    indicies = [preferences.index(match) for match in matches]\n",
      "    max_index = max(indicies)\n",
      "    # Get all of the people up until the worst person picked\n",
      "    best_people = set(preferences[:max_index])\n",
      "    # Remove the people that were successfully picked\n",
      "    better_people = best_people - set(matches)\n",
      "    return list(best_people)\n",
      "    \n",
      "# Checks if all of the matches are stable\n",
      "def verify_matches(doc_matches, hos_matches, original_doc_prefs, original_hos_prefs):\n",
      "    doctor_to_hospital_preferences = doc_matches.join(original_doc_prefs).mapValues(lambda (match, preferences): getpreferredhospitals(match, preferences)).flatMapValues(lambda x: x)\n",
      "    hospital_to_doctor_preferences = hos_matches.join(original_hos_prefs).mapValues(lambda (matches, preferences): getpreferreddoctors(matches, preferences)).flatMapValues(lambda x: x).partitionBy(numPartitions)\n",
      "    flip_prefs = doctor_to_hospital_preferences.map(lambda (x,y): (y,x)).partitionBy(numPartitions)\n",
      "    return flip_prefs.intersection(hospital_to_doctor_preferences)\n",
      "\n",
      "        "
     ],
     "language": "python",
     "metadata": {},
     "outputs": [],
     "prompt_number": 18
    },
    {
     "cell_type": "code",
     "collapsed": false,
     "input": [
      "bad_results = verify_matches(doctor_matchings, hospital_matchings, doctor_RDD, hospital_RDD)\n",
      "# If the assertion passes, then this is a stable matching!\n",
      "assert(bad_results.count() == 0)"
     ],
     "language": "python",
     "metadata": {},
     "outputs": [],
     "prompt_number": 19
    },
    {
     "cell_type": "code",
     "collapsed": false,
     "input": [
      "# Make sure the number of matched doctors agrees in both RDDs\n",
      "assert(doctor_matchings.filter(lambda (x,y): y != -1).count() == hospital_matchings.mapValues(len).values().sum())"
     ],
     "language": "python",
     "metadata": {},
     "outputs": [],
     "prompt_number": 26
    },
    {
     "cell_type": "code",
     "collapsed": false,
     "input": [],
     "language": "python",
     "metadata": {},
     "outputs": [],
     "prompt_number": 25
    },
    {
     "cell_type": "code",
     "collapsed": false,
     "input": [],
     "language": "python",
     "metadata": {},
     "outputs": [],
     "prompt_number": 24
    },
    {
     "cell_type": "code",
     "collapsed": false,
     "input": [],
     "language": "python",
     "metadata": {},
     "outputs": [],
     "prompt_number": 24
    },
    {
     "cell_type": "code",
     "collapsed": false,
     "input": [],
     "language": "python",
     "metadata": {},
     "outputs": [],
     "prompt_number": 23
    }
   ],
   "metadata": {}
  }
 ]
}