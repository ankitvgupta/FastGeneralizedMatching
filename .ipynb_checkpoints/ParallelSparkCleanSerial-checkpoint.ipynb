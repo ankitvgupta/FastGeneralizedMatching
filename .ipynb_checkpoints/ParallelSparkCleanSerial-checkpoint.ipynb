{
 "metadata": {
  "kernelspec": {
   "display_name": "Python 2",
   "language": "python",
   "name": "python2"
  },
  "language_info": {
   "codemirror_mode": {
    "name": "ipython",
    "version": 2
   },
   "file_extension": ".py",
   "mimetype": "text/x-python",
   "name": "python",
   "nbconvert_exporter": "python",
   "pygments_lexer": "ipython2",
   "version": "2.7.9"
  },
  "name": "",
  "signature": "sha256:367d60b3e008088f7418662ca2b915e1c0ffabcec2d14e2ff3f0c165d2af93d5"
 },
 "nbformat": 3,
 "nbformat_minor": 0,
 "worksheets": [
  {
   "cells": [
    {
     "cell_type": "code",
     "collapsed": false,
     "input": [
      "import csv\n",
      "\n",
      "\n",
      "import numpy as np\n",
      "import itertools\n",
      "\n"
     ],
     "language": "python",
     "metadata": {},
     "outputs": [],
     "prompt_number": 2
    },
    {
     "cell_type": "code",
     "collapsed": false,
     "input": [
      "import sys"
     ],
     "language": "python",
     "metadata": {},
     "outputs": [],
     "prompt_number": 3
    },
    {
     "cell_type": "code",
     "collapsed": false,
     "input": [],
     "language": "python",
     "metadata": {},
     "outputs": [],
     "prompt_number": 3
    },
    {
     "cell_type": "code",
     "collapsed": false,
     "input": [
      "doctor_prefs = np.loadtxt(\"doctor_preferences.txt\").astype(int)\n",
      "#hospital_matchings = np.loadtxt(\"hospital_preferences.txt\").astype(int)"
     ],
     "language": "python",
     "metadata": {},
     "outputs": [],
     "prompt_number": 4
    },
    {
     "cell_type": "code",
     "collapsed": false,
     "input": [
      "hospital_prefs = []\n",
      "with open('hospital_preferences.txt') as inputfile:\n",
      "    for row in csv.reader(inputfile, delimiter=\" \"):\n",
      "        hospital_prefs.append(map(int, row))\n"
     ],
     "language": "python",
     "metadata": {},
     "outputs": [],
     "prompt_number": 5
    },
    {
     "cell_type": "code",
     "collapsed": false,
     "input": [
      "spots_per_hospital = 8\n",
      "numPartitions = 64\n",
      "numPositionsPerHospital = 8\n",
      "numPreferencesPerDoctor = 15"
     ],
     "language": "python",
     "metadata": {},
     "outputs": [],
     "prompt_number": 6
    },
    {
     "cell_type": "code",
     "collapsed": false,
     "input": [
      "print doctor_prefs[0]\n",
      "print hospital_prefs[0]\n",
      "x = [1,4,2,1]\n",
      "y = sorted(x, reverse=True)\n",
      "print y"
     ],
     "language": "python",
     "metadata": {},
     "outputs": [
      {
       "output_type": "stream",
       "stream": "stdout",
       "text": [
        "[33 41 10 31 46 17  5  6 11 47 34 29  3 24 38  1 32 18  4  7]\n",
        "[331, 234, 164, 236, 284, 317, 190, 148, 12, 155, 292, 260, 321, 91, 377, 298, 394, 162, 109, 118, 165, 249, 318, 163, 108, 26, 188, 111, 372, 270, 219, 250, 173, 269, 1, 291, 133, 395, 254, 405, 7, 280, 137, 192, 195, 290, 52, 171, 343, 136, 253, 295, 401, 360, 213, 135, 208, 77, 221, 385, 406, 123, 150, 102, 64, 333, 50, 183, 392, 235, 341, 368, 380, 340, 363, 115, 399, 376, 204, 206, 120, 34, 256, 286, 196, 408, 27, 344, 185, 339, 379, 142, 154, 312, 72, 75, 153, 205, 131, 243, 378, 373, 231, 94, 170, 212, 282, 364, 21, 39, 335, 23, 161, 276, 157, 355, 25, 297, 101, 369, 278, 38, 381, 367, 330, 247, 199, 172, 388, 78, 11, 272, 14, 304, 71, 382, 296, 230, 404, 311, 107, 323, 57, 146, 22, 285, 125, 293, 145, 216, 132, 143, 58, 30, 105, 6, 100, 238, 294, 246, 259, 32, 193, 264, 287, 393, 375, 187, 2, 116, 48]\n",
        "[4, 2, 1, 1]\n"
       ]
      }
     ],
     "prompt_number": 7
    },
    {
     "cell_type": "code",
     "collapsed": false,
     "input": [
      "# Simply perform the well-known Gale Shapley algorithm for the\n",
      "# national residency match.  This is probably along the lines of\n",
      "# what the national residency match actually implements.\n",
      "def serial_implementation():\n",
      "    hospital_accepted = [[] for i in range(len(hospital_prefs))]\n",
      "    doc_indices = [0] * len(doctor_prefs)\n",
      "    hospital_dicts = [{} for i in range(len(hospital_prefs))]\n",
      "    for i, l in enumerate(hospital_prefs):\n",
      "        for val, ind in enumerate(l):\n",
      "            hospital_dicts[i][ind] = val\n",
      "    iter_n = 0\n",
      "    doc_pool = set(range(len(doctor_prefs)))\n",
      "    # s.discard s.add\n",
      "    brk = True\n",
      "    while brk:\n",
      "        brk = False\n",
      "        hospital_queues = [[] for i in range(len(hospital_prefs))]\n",
      "        to_pop = []\n",
      "        # each remaining doctor proposes to their first choice school\n",
      "        for i, doc in enumerate(doc_pool):\n",
      "            if doc_indices[doc] == numPositionsPerHospital:\n",
      "                doc_pool.discard(doc)\n",
      "                continue\n",
      "            hospital_queues[doctor_prefs[doc][doc_indices[doc]]].append(doc)\n",
      "            doc_indices[doc] += 1\n",
      "        # each hospital accepts its top spots_per_hospital applicants\n",
      "        for j in range(len(hospital_queues)):\n",
      "            old = hospital_accepted[j]\n",
      "            cor = old + [a for a in hospital_queues[j] if a in hospital_dicts[j].keys()]\n",
      "            cor = sorted(cor, key=lambda x: hospital_dicts[j][x])\n",
      "            hospital_accepted[j] = cor[:8]\n",
      "            if hospital_accepted[j] != old:\n",
      "                brk = True\n",
      "            for k in range(min(8, len(cor))):\n",
      "                doc_pool.discard(cor[k])\n",
      "            for k in range(9, len(cor)):\n",
      "                doc_pool.add(cor[k])\n",
      "            \n",
      "        # TODO: check serial implementation stability\n",
      "        iter_n += 1\n",
      "        for p in sorted(to_pop, reverse=True):\n",
      "            doc_pool.pop(p)\n",
      "    return hospital_accepted\n",
      "\n",
      "matches = serial_implementation()\n",
      "print matches\n"
     ],
     "language": "python",
     "metadata": {},
     "outputs": [
      {
       "output_type": "stream",
       "stream": "stdout",
       "text": [
        "[[190, 292, 165, 269, 254, 295, 385, 64], [74, 354, 198, 231, 314, 359, 201, 144], [241, 122, 5, 320, 391, 93, 112, 223], [129, 301, 111, 374, 34, 268, 250, 92], [102, 171, 119, 178, 172, 29], [65, 262, 208, 333, 113, 48, 164, 124], [311, 41, 381, 6, 290, 162, 28, 183], [397, 104, 109, 367, 72], [283, 298, 143, 214, 168, 170, 120, 399], [370, 348, 216, 116, 139, 44, 303], [364, 152, 286, 132, 58, 327, 10, 160], [304, 409, 225, 158, 134, 81, 299], [15, 279, 240, 218, 130, 185, 19, 275], [342, 207, 75, 242, 322, 140, 245, 138], [90, 4, 309, 145, 251, 278, 219, 46], [373, 239, 23, 99, 356, 39], [317, 387, 382, 335, 12, 273, 384, 255], [396, 115, 137, 323, 321, 9, 212, 177], [332, 127, 253, 101, 408, 1, 206], [56, 16, 192, 123, 88, 246, 181, 50], [258, 135, 289, 193, 360, 329, 369, 232], [394, 51, 188, 393, 73, 339, 388, 195], [197, 150, 52, 70, 33, 67, 403, 252], [209, 340, 355, 161, 8, 148, 344, 407], [347, 224, 200, 32, 265, 3, 402], [324, 377, 203, 288, 281, 337, 91, 85], [49, 383, 167, 294, 213, 334, 401, 350], [336, 380, 187, 211, 169, 267, 26, 204], [47, 182, 114, 264, 308, 202], [83, 352, 358, 237, 343, 18, 20, 261], [375, 78, 389, 293, 406, 371, 233, 89], [379, 270, 151, 55], [345, 287, 40, 166, 238, 2, 398, 307], [243, 163, 35, 7, 45, 296, 175, 368], [271, 405, 392, 147, 229, 313, 157, 305], [53, 117, 136, 79, 173, 63, 189, 362], [59, 310, 106, 179, 390, 82, 155, 284], [13, 108, 103, 36, 222, 302, 263, 256], [126, 31, 153, 315, 96, 361, 184, 21], [325, 249, 77, 25, 17, 54, 97, 68], [133, 257, 84, 100, 94, 326], [80, 357, 404, 37, 366, 349, 228, 328], [319, 221, 312, 272, 378, 395, 24, 220], [227, 60, 141, 386, 194, 316, 338, 22], [159, 76, 210, 107, 110, 11, 297, 318], [260, 156, 244, 191, 42, 291], [86, 196, 57, 376, 199, 128, 105, 131], [306, 27, 372, 125, 174, 14, 142, 280], [180, 71, 98, 341, 38, 61, 274, 247], [330, 282, 62, 87, 277, 235, 43, 353]]\n"
       ]
      }
     ],
     "prompt_number": 8
    },
    {
     "cell_type": "code",
     "collapsed": false,
     "input": [
      "# Get the index in the hospital prefs for the worst person that hospital selected\n",
      "def get_worst_person_selected_index(hospital_i_prefs, hospital_i_matchings):\n",
      "    return max([hospital_i_prefs.index(x) for x in hospital_i_matchings])"
     ],
     "language": "python",
     "metadata": {},
     "outputs": [],
     "prompt_number": 9
    },
    {
     "cell_type": "code",
     "collapsed": false,
     "input": [
      "get_worst_person_selected_index(hospital_prefs[2], matches[2])"
     ],
     "language": "python",
     "metadata": {},
     "outputs": [
      {
       "metadata": {},
       "output_type": "pyout",
       "prompt_number": 11,
       "text": [
        "102"
       ]
      }
     ],
     "prompt_number": 11
    },
    {
     "cell_type": "code",
     "collapsed": false,
     "input": [
      "def check_results(doc_prefs, hospital_prefs, hospital_matchings):\n",
      "    doc_to_hospital_matching = {}\n",
      "    # Determine what the matchings were\n",
      "    for doc in range(len(doc_prefs)):\n",
      "        doc_to_hospital_matching[doc] = -1\n",
      "    for hospital in range(len(hospital_matchings)):\n",
      "        for match in hospital_matchings[hospital]:\n",
      "            doc_to_hospital_matching[match] = hospital\n",
      "    #print doc_to_hospital_matching\n",
      "    for doc, hosp in zip(doc_to_hospital_matching.keys(), doc_to_hospital_matching.values()):\n",
      "        if hosp == -1:\n",
      "            # For each hospital that person prefs, they were worse rating and any of the people they picked\n",
      "            for hospital in doc_prefs[doc]:\n",
      "                print hospital\n",
      "                assert(hospital_prefs[hospital].index(doc) > get_worst_person_selected_index(hospital_prefs[hospital], hospital_matchings[hospital]))\n",
      "        else:\n",
      "            for hospital in doc_prefs[doc][:doc_prefs[doc].index(hosp)]:\n",
      "                assert(hospital_prefs[hospital].index(doc) > get_worst_person_selected_index(hospital_prefs[hospital], hospital_matchings[hospital]))\n",
      "    \n",
      "    \n",
      "    \n",
      "    \n",
      "    "
     ],
     "language": "python",
     "metadata": {},
     "outputs": [],
     "prompt_number": 26
    },
    {
     "cell_type": "code",
     "collapsed": false,
     "input": [
      "check_results(doctor_prefs, hospital_prefs, matches)"
     ],
     "language": "python",
     "metadata": {},
     "outputs": [
      {
       "output_type": "stream",
       "stream": "stdout",
       "text": [
        "33\n",
        "41\n",
        "10\n"
       ]
      },
      {
       "ename": "AssertionError",
       "evalue": "",
       "output_type": "pyerr",
       "traceback": [
        "\u001b[0;31m---------------------------------------------------------------------------\u001b[0m\n\u001b[0;31mAssertionError\u001b[0m                            Traceback (most recent call last)",
        "\u001b[0;32m<ipython-input-27-f86ff6c54bbe>\u001b[0m in \u001b[0;36m<module>\u001b[0;34m()\u001b[0m\n\u001b[0;32m----> 1\u001b[0;31m \u001b[0mcheck_results\u001b[0m\u001b[0;34m(\u001b[0m\u001b[0mdoctor_prefs\u001b[0m\u001b[0;34m,\u001b[0m \u001b[0mhospital_prefs\u001b[0m\u001b[0;34m,\u001b[0m \u001b[0mres\u001b[0m\u001b[0;34m)\u001b[0m\u001b[0;34m\u001b[0m\u001b[0m\n\u001b[0m",
        "\u001b[0;32m<ipython-input-26-80f04b89be57>\u001b[0m in \u001b[0;36mcheck_results\u001b[0;34m(doc_prefs, hospital_prefs, hospital_matchings)\u001b[0m\n\u001b[1;32m     13\u001b[0m             \u001b[0;32mfor\u001b[0m \u001b[0mhospital\u001b[0m \u001b[0;32min\u001b[0m \u001b[0mdoc_prefs\u001b[0m\u001b[0;34m[\u001b[0m\u001b[0mdoc\u001b[0m\u001b[0;34m]\u001b[0m\u001b[0;34m:\u001b[0m\u001b[0;34m\u001b[0m\u001b[0m\n\u001b[1;32m     14\u001b[0m                 \u001b[0;32mprint\u001b[0m \u001b[0mhospital\u001b[0m\u001b[0;34m\u001b[0m\u001b[0m\n\u001b[0;32m---> 15\u001b[0;31m                 \u001b[0;32massert\u001b[0m\u001b[0;34m(\u001b[0m\u001b[0mhospital_prefs\u001b[0m\u001b[0;34m[\u001b[0m\u001b[0mhospital\u001b[0m\u001b[0;34m]\u001b[0m\u001b[0;34m.\u001b[0m\u001b[0mindex\u001b[0m\u001b[0;34m(\u001b[0m\u001b[0mdoc\u001b[0m\u001b[0;34m)\u001b[0m \u001b[0;34m>\u001b[0m \u001b[0mget_worst_person_selected_index\u001b[0m\u001b[0;34m(\u001b[0m\u001b[0mhospital_prefs\u001b[0m\u001b[0;34m[\u001b[0m\u001b[0mhospital\u001b[0m\u001b[0;34m]\u001b[0m\u001b[0;34m,\u001b[0m \u001b[0mhospital_matchings\u001b[0m\u001b[0;34m[\u001b[0m\u001b[0mhospital\u001b[0m\u001b[0;34m]\u001b[0m\u001b[0;34m)\u001b[0m\u001b[0;34m)\u001b[0m\u001b[0;34m\u001b[0m\u001b[0m\n\u001b[0m\u001b[1;32m     16\u001b[0m         \u001b[0;32melse\u001b[0m\u001b[0;34m:\u001b[0m\u001b[0;34m\u001b[0m\u001b[0m\n\u001b[1;32m     17\u001b[0m             \u001b[0;32mfor\u001b[0m \u001b[0mhospital\u001b[0m \u001b[0;32min\u001b[0m \u001b[0mdoc_prefs\u001b[0m\u001b[0;34m[\u001b[0m\u001b[0mdoc\u001b[0m\u001b[0;34m]\u001b[0m\u001b[0;34m[\u001b[0m\u001b[0;34m:\u001b[0m\u001b[0mdoc_prefs\u001b[0m\u001b[0;34m[\u001b[0m\u001b[0mdoc\u001b[0m\u001b[0;34m]\u001b[0m\u001b[0;34m.\u001b[0m\u001b[0mindex\u001b[0m\u001b[0;34m(\u001b[0m\u001b[0mhosp\u001b[0m\u001b[0;34m)\u001b[0m\u001b[0;34m]\u001b[0m\u001b[0;34m:\u001b[0m\u001b[0;34m\u001b[0m\u001b[0m\n",
        "\u001b[0;31mAssertionError\u001b[0m: "
       ]
      }
     ],
     "prompt_number": 27
    },
    {
     "cell_type": "code",
     "collapsed": false,
     "input": [
      "hospital_prefs[10].index(0)"
     ],
     "language": "python",
     "metadata": {},
     "outputs": [
      {
       "metadata": {},
       "output_type": "pyout",
       "prompt_number": 19,
       "text": [
        "15"
       ]
      }
     ],
     "prompt_number": 19
    },
    {
     "cell_type": "code",
     "collapsed": false,
     "input": [
      "[hospital_prefs[10].index(x) for x in res[10]] "
     ],
     "language": "python",
     "metadata": {},
     "outputs": [
      {
       "metadata": {},
       "output_type": "pyout",
       "prompt_number": 23,
       "text": [
        "[10, 50, 66, 80, 87, 90, 93, 103]"
       ]
      }
     ],
     "prompt_number": 23
    },
    {
     "cell_type": "code",
     "collapsed": false,
     "input": [],
     "language": "python",
     "metadata": {},
     "outputs": []
    }
   ],
   "metadata": {}
  }
 ]
}