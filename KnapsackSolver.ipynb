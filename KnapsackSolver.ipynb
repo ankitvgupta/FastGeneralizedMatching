{
 "cells": [
  {
   "cell_type": "code",
   "execution_count": 23,
   "metadata": {
    "collapsed": false
   },
   "outputs": [
    {
     "name": "stdout",
     "output_type": "stream",
     "text": [
      "[[0, 2, 2], [0, 2, 3], [0, 2, 3], [0, 2, 3], [0, 5, 7]]\n",
      "[[(0, 0), (0, 0), (0, 0)], [(0, 0), (0, 1), (0, 0)], [(1, 0), (1, 1), (1, 2)], [(2, 0), (2, 1), (2, 2)], [(3, 0), (3, 0), (3, 1)]]\n",
      "[4, 0]\n"
     ]
    }
   ],
   "source": [
    "# Input: id_val_map is a dict of id -> val mappings\n",
    "# (aka the hospital utility function)\n",
    "# id_cost_list is the price at which all of the ids listed\n",
    "# above will work for this particular hospital\n",
    "# Output: returns a list of the ids of the doctors we're choosing.\n",
    "# We don't want to mess around with function call overhead, so we'll\n",
    "# do a fast top down DP\n",
    "def fast_knapsack_solver(id_val_map, id_cost_list, capacity):\n",
    "    dp_arr = [[0]* capacity for i in range(len(id_cost_list))]\n",
    "    ptr_arr = [[(0,0)]* capacity for i in range(len(id_cost_list))]\n",
    "    for i in range(capacity):\n",
    "        if i >= id_cost_list[0][1]:\n",
    "            dp_arr[0][i] = id_val_map[id_cost_list[0][0]]\n",
    "    for i in range(1, len(id_cost_list)):\n",
    "        for j in range(capacity):\n",
    "            if (j - id_cost_list[i][1] < 0 or dp_arr[i - 1][j] > dp_arr[i - 1][j - id_cost_list[i][1]] + id_val_map[id_cost_list[i][0]]):\n",
    "                dp_arr[i][j] = dp_arr[i - 1][j]\n",
    "                ptr_arr[i][j] = (i - 1, j)\n",
    "            else:\n",
    "                dp_arr[i][j] = dp_arr[i - 1][j - id_cost_list[i][1]] + id_val_map[id_cost_list[i][0]]\n",
    "                ptr_arr[i][j] = (i - 1, j - id_cost_list[i][1])       \n",
    "    maxind = 0\n",
    "    maxval = 0\n",
    "    for k in range(capacity):\n",
    "        if dp_arr[len(dp_arr) - 1][k] > maxval:\n",
    "            maxind = k\n",
    "            maxval = dp_arr[len(dp_arr) - 1][k]\n",
    "    print dp_arr\n",
    "    print ptr_arr\n",
    "    # Trace back to figure out what went in our knapsack\n",
    "    knapsack_contents = []\n",
    "    i = len(dp_arr) - 1\n",
    "    j = maxind\n",
    "    cur = (len(dp_arr) - 1, maxind)\n",
    "    bn = False\n",
    "    while 1:\n",
    "        if (ptr_arr[cur[0]][cur[1]][1] != cur[1]):\n",
    "            knapsack_contents.append(cur[0])\n",
    "        cur = ptr_arr[cur[0]][cur[1]]\n",
    "        if bn:\n",
    "            break\n",
    "        if cur[0] == 0:\n",
    "            bn = True\n",
    "    return knapsack_contents\n",
    "\n",
    "ivm_test_1 = {0:2, 1:3, 2:4, 3:2, 4:5}\n",
    "# [doc, price] CURRENTLY MUST BE ORDERED IN THIS WAY\n",
    "icl_test_1 = [[0,1],[1,2],[2,3],[3,6],[4,1]]\n",
    "\n",
    "print fast_knapsack_solver(ivm_test_1, icl_test_1, 3)"
   ]
  },
  {
   "cell_type": "code",
   "execution_count": null,
   "metadata": {
    "collapsed": true
   },
   "outputs": [],
   "source": []
  }
 ],
 "metadata": {
  "kernelspec": {
   "display_name": "Python 2",
   "language": "python",
   "name": "python2"
  },
  "language_info": {
   "codemirror_mode": {
    "name": "ipython",
    "version": 2
   },
   "file_extension": ".py",
   "mimetype": "text/x-python",
   "name": "python",
   "nbconvert_exporter": "python",
   "pygments_lexer": "ipython2",
   "version": "2.7.9"
  }
 },
 "nbformat": 4,
 "nbformat_minor": 0
}
