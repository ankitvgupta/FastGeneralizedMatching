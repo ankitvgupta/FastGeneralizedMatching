{
 "metadata": {
  "kernelspec": {
   "display_name": "Python 2",
   "language": "python",
   "name": "python2"
  },
  "language_info": {
   "codemirror_mode": {
    "name": "ipython",
    "version": 2
   },
   "file_extension": ".py",
   "mimetype": "text/x-python",
   "name": "python",
   "nbconvert_exporter": "python",
   "pygments_lexer": "ipython2",
   "version": "2.7.9"
  },
  "name": "",
  "signature": "sha256:ab24c5ef5ca9a49d95a1349bf0086fb76d0f40d9b92cd4d4fc655faead67f87e"
 },
 "nbformat": 3,
 "nbformat_minor": 0,
 "worksheets": [
  {
   "cells": [
    {
     "cell_type": "code",
     "collapsed": false,
     "input": [
      "import csv\n",
      "\n",
      "\n",
      "import numpy as np\n",
      "import itertools\n",
      "\n"
     ],
     "language": "python",
     "metadata": {},
     "outputs": [],
     "prompt_number": 1
    },
    {
     "cell_type": "code",
     "collapsed": false,
     "input": [
      "import sys"
     ],
     "language": "python",
     "metadata": {},
     "outputs": [],
     "prompt_number": 2
    },
    {
     "cell_type": "code",
     "collapsed": false,
     "input": [],
     "language": "python",
     "metadata": {},
     "outputs": [],
     "prompt_number": 2
    },
    {
     "cell_type": "code",
     "collapsed": false,
     "input": [
      "doctor_prefs = np.loadtxt(\"doctor_preferences.txt\").astype(int).tolist()\n",
      "#hospital_matchings = np.loadtxt(\"hospital_preferences.txt\").astype(int)"
     ],
     "language": "python",
     "metadata": {},
     "outputs": [],
     "prompt_number": 3
    },
    {
     "cell_type": "code",
     "collapsed": false,
     "input": [],
     "language": "python",
     "metadata": {},
     "outputs": [],
     "prompt_number": 3
    },
    {
     "cell_type": "code",
     "collapsed": false,
     "input": [
      "hospital_prefs = []\n",
      "with open('hospital_preferences.txt') as inputfile:\n",
      "    for row in csv.reader(inputfile, delimiter=\" \"):\n",
      "        hospital_prefs.append(map(int, row))\n"
     ],
     "language": "python",
     "metadata": {},
     "outputs": [],
     "prompt_number": 4
    },
    {
     "cell_type": "code",
     "collapsed": false,
     "input": [
      "numPartitions = 64\n",
      "numPositionsPerHospital = 6\n",
      "numPreferencesPerDoctor = 15"
     ],
     "language": "python",
     "metadata": {},
     "outputs": [],
     "prompt_number": 5
    },
    {
     "cell_type": "code",
     "collapsed": false,
     "input": [
      "print doctor_prefs[0]\n",
      "print hospital_prefs[0]\n",
      "x = [1,4,2,1]\n",
      "y = sorted(x, reverse=True)\n",
      "print y"
     ],
     "language": "python",
     "metadata": {},
     "outputs": [
      {
       "output_type": "stream",
       "stream": "stdout",
       "text": [
        "[1243, 1748, 804, 2143, 3934, 227, 1704, 1614, 4326, 250, 3866, 762, 2667, 3049, 1011, 1567, 214, 3792, 2172, 3724]\n",
        "[22859, 18737, 32070, 33037, 13751, 3150, 24001, 14309, 33131, 30147, 7865, 4408, 12080, 12344, 21104, 19417, 33785, 36316, 20451, 37872, 25901, 8435, 25709, 31669, 2842, 7810, 16436, 17139, 28800, 27962, 27459, 4583, 34408, 2277, 37359, 16057, 36607, 35435, 14267, 31849, 13237, 23320, 23924, 32838, 4579, 2875, 12142, 7589, 32852, 15473, 4550, 1205, 12246, 14856, 9727, 34990, 29650, 2395, 31497, 38891, 19890, 2933, 1933, 30667, 25680, 16747, 25422, 4677, 34904, 40728, 7571, 1862, 26306, 3786, 10284, 26202, 14162, 29063, 25909, 10733, 27697, 13038, 10152, 16211, 39868, 19952, 16218, 32469, 12144, 25456, 31231, 26819, 38618, 27948, 9258, 5763, 17611, 32397, 654, 15131, 38759, 38700, 25430, 34333, 12859, 11330, 28065, 39512, 33234, 26288, 22438, 19072, 31645, 40478, 23242, 20173, 21432, 1074, 26949, 28468, 1170, 35443, 34180, 13128, 36489, 12066, 38112, 13873, 7204, 35153, 8967, 2143, 35037, 23102, 34973, 11198, 34767, 29793, 16369, 21399, 37079, 28192, 23039, 809, 8001, 13636, 16742, 26316, 4288, 19126, 40665, 11940, 623, 10251, 39935, 32105, 21181, 15560, 21901, 35529, 1794, 2845, 24056, 35243, 22808]\n",
        "[4, 2, 1, 1]\n"
       ]
      }
     ],
     "prompt_number": 6
    },
    {
     "cell_type": "code",
     "collapsed": false,
     "input": [
      "# Simply perform the well-known Gale Shapley algorithm for the\n",
      "# national residency match.  This is probably along the lines of\n",
      "# what the national residency match actually implements.\n",
      "def serial_implementation():\n",
      "    hospital_accepted = [[] for i in range(len(hospital_prefs))]\n",
      "    doc_indices = [0] * len(doctor_prefs)\n",
      "    hospital_dicts = [{} for i in range(len(hospital_prefs))]\n",
      "    for i, l in enumerate(hospital_prefs):\n",
      "        for val, ind in enumerate(l):\n",
      "            hospital_dicts[i][ind] = val\n",
      "    iter_n = 0\n",
      "    doc_pool = set(range(len(doctor_prefs)))\n",
      "    # s.discard s.add\n",
      "    brk = True\n",
      "    while brk:\n",
      "        brk = False\n",
      "        hospital_queues = [[] for i in range(len(hospital_prefs))]\n",
      "        to_pop = []\n",
      "        # each remaining doctor proposes to their first choice school\n",
      "        for doc in list(doc_pool):\n",
      "            #if doc_indices[doc] == numPositionsPerHospital:\n",
      "            #    doc_pool.discard(doc)\n",
      "            #    continue\n",
      "            if doc_indices[doc] >= len(doctor_prefs[doc]):\n",
      "                doc_pool.discard(doc)\n",
      "                continue\n",
      "            brk = True\n",
      "            hospital_queues[doctor_prefs[doc][doc_indices[doc]]].append(doc)\n",
      "            doc_indices[doc] += 1\n",
      "        # each hospital accepts its top spots_per_hospital applicants\n",
      "        for j in range(len(hospital_queues)):\n",
      "            old = hospital_accepted[j]\n",
      "            cor = old + [a for a in hospital_queues[j] if a in hospital_dicts[j].keys()]\n",
      "            assert(len(cor) == len(old + [a for a in hospital_queues[j]]))\n",
      "            cor = sorted(cor, key=lambda x: hospital_dicts[j][x])\n",
      "            cor2 = sorted(cor, key=lambda x: hospital_prefs[j].index(x))\n",
      "            assert(cor == cor2)\n",
      "            hospital_accepted[j] = cor[:numPositionsPerHospital]\n",
      "            if hospital_accepted[j] != old:\n",
      "                brk = True\n",
      "            for k in range(min(numPositionsPerHospital, len(cor))):\n",
      "                doc_pool.discard(cor[k])\n",
      "            for k in range(numPositionsPerHospital, len(cor)):\n",
      "                doc_pool.add(cor[k])\n",
      "        # TODO: check serial implementation stability\n",
      "        iter_n += 1\n",
      "        for p in sorted(to_pop, reverse=True):\n",
      "            doc_pool.pop(p)\n",
      "    return hospital_accepted\n",
      "\n",
      "\n"
     ],
     "language": "python",
     "metadata": {},
     "outputs": []
    },
    {
     "cell_type": "code",
     "collapsed": false,
     "input": [
      "matches = serial_implementation()\n",
      "print matches"
     ],
     "language": "python",
     "metadata": {},
     "outputs": []
    },
    {
     "cell_type": "code",
     "collapsed": false,
     "input": [
      "# Get the index in the hospital prefs for the worst person that hospital selected\n",
      "def get_worst_person_selected_index(hospital_i_prefs, hospital_i_matchings):\n",
      "    return max([hospital_i_prefs.index(x) for x in hospital_i_matchings])"
     ],
     "language": "python",
     "metadata": {},
     "outputs": []
    },
    {
     "cell_type": "code",
     "collapsed": false,
     "input": [
      "get_worst_person_selected_index(hospital_prefs[2], matches[2])"
     ],
     "language": "python",
     "metadata": {},
     "outputs": []
    },
    {
     "cell_type": "code",
     "collapsed": false,
     "input": [
      "def check_results(doc_prefs, hospital_prefs, hospital_matchings):\n",
      "    doc_to_hospital_matching = {}\n",
      "    # Determine what the matchings were\n",
      "    for doc in range(len(doc_prefs)):\n",
      "        doc_to_hospital_matching[doc] = -1\n",
      "    for hospital in range(len(hospital_matchings)):\n",
      "        for match in hospital_matchings[hospital]:\n",
      "            doc_to_hospital_matching[match] = hospital\n",
      "    #print doc_to_hospital_matching\n",
      "    for doc, hosp in zip(doc_to_hospital_matching.keys(), doc_to_hospital_matching.values()):\n",
      "        if hosp == -1:\n",
      "            # For each hospital that person prefs, they were worse rating and any of the people they picked\n",
      "            for hospital in doc_prefs[doc]:\n",
      "                assert(hospital_prefs[hospital].index(doc) > get_worst_person_selected_index(hospital_prefs[hospital], hospital_matchings[hospital]))\n",
      "        else:\n",
      "            for hospital in doc_prefs[doc][:doc_prefs[doc].index(hosp)]:\n",
      "                assert(hospital_prefs[hospital].index(doc) > get_worst_person_selected_index(hospital_prefs[hospital], hospital_matchings[hospital]))\n",
      "    \n",
      "    \n",
      "    \n",
      "    \n",
      "    "
     ],
     "language": "python",
     "metadata": {},
     "outputs": []
    },
    {
     "cell_type": "code",
     "collapsed": false,
     "input": [
      "check_results(doctor_prefs, hospital_prefs, matches)"
     ],
     "language": "python",
     "metadata": {},
     "outputs": []
    },
    {
     "cell_type": "code",
     "collapsed": false,
     "input": [],
     "language": "python",
     "metadata": {},
     "outputs": []
    },
    {
     "cell_type": "code",
     "collapsed": false,
     "input": [],
     "language": "python",
     "metadata": {},
     "outputs": []
    },
    {
     "cell_type": "code",
     "collapsed": false,
     "input": [],
     "language": "python",
     "metadata": {},
     "outputs": []
    },
    {
     "cell_type": "code",
     "collapsed": false,
     "input": [],
     "language": "python",
     "metadata": {},
     "outputs": []
    }
   ],
   "metadata": {}
  }
 ]
}