{
 "cells": [
  {
   "cell_type": "code",
   "execution_count": 1,
   "metadata": {
    "collapsed": false
   },
   "outputs": [],
   "source": [
    "import findspark\n",
    "findspark.init()\n",
    "\n",
    "import pyspark\n",
    "sc = pyspark.SparkContext(appName=\"Spark1\")\n",
    "\n",
    "\n",
    "import numpy as np\n",
    "import itertools\n",
    "\n",
    "# Reduce the amount that Spark logs to the console.\n",
    "logger = sc._jvm.org.apache.log4j\n",
    "logger.LogManager.getLogger(\"org\"). setLevel( logger.Level.ERROR )\n",
    "logger.LogManager.getLogger(\"akka\").setLevel( logger.Level.ERROR )"
   ]
  },
  {
   "cell_type": "code",
   "execution_count": 2,
   "metadata": {
    "collapsed": false
   },
   "outputs": [],
   "source": [
    "import sys"
   ]
  },
  {
   "cell_type": "code",
   "execution_count": 3,
   "metadata": {
    "collapsed": false
   },
   "outputs": [],
   "source": [
    "def copartitioned(RDD1, RDD2):\n",
    "    \"check if two RDDs are copartitioned\"\n",
    "    return RDD1.partitioner == RDD2.partitioner"
   ]
  },
  {
   "cell_type": "code",
   "execution_count": 4,
   "metadata": {
    "collapsed": false
   },
   "outputs": [],
   "source": [
    "doctor_matchings = np.loadtxt(\"doctor_preferences.txt\").astype(int)\n",
    "hospital_matchings = np.loadtxt(\"hospital_preferences.txt\").astype(int)"
   ]
  },
  {
   "cell_type": "code",
   "execution_count": 16,
   "metadata": {
    "collapsed": false
   },
   "outputs": [],
   "source": [
    "spots_per_hospital = 8\n",
    "numPartitions = 64\n",
    "numPositionsPerHospital = 8\n",
    "numPreferencesPerDoctor = 15"
   ]
  },
  {
   "cell_type": "code",
   "execution_count": 21,
   "metadata": {
    "collapsed": false
   },
   "outputs": [
    {
     "name": "stdout",
     "output_type": "stream",
     "text": [
      "[ 2 11  9 16 13 19  0 10  8  7 18  6  3  4  2]\n",
      "[187  75  20 110  50  69  48 106   5 167 128 127  76  65  39  33 191  37\n",
      "  29 124 105  61  96 108  44 192  68 177  77 107 184  74 114  72 137  92\n",
      "  25  80   2 197  46  42  95 125 176  21 183   8  82   3  22 102  17 165\n",
      "  41 144 168  90  71 193  99  79  11 139 136 122  63  62 171 100 195 178\n",
      " 154  12 180  34  73  43 145 182 115  86 189  38 198 158  88 150 147 149\n",
      " 152  91 156  36  19 196 140 151   7  55 188 153  89 172 134  93  94 162\n",
      " 117 101  84 130 163 112   4 141 185 135  81 164 170 129 199  70  56  10\n",
      " 181  83  97  54  78 173 143  14  40 160 161   0 111  32 157  27 155 148\n",
      "  51 113  64 142  58  45 174  31  66 169 166  60 133 121  28 194 103  24\n",
      "  57  49  59  30 119 179  53  26  85  52 131  23 146  87  67   9 190 126\n",
      "  47 118  13 138  35 186 104 123  15 175   1  98 132  16 159 120 116  18\n",
      " 109   6]\n",
      "[4, 2, 1, 1]\n"
     ]
    }
   ],
   "source": [
    "print doctor_matchings[0]\n",
    "print hospital_matchings[0]\n",
    "x = [1,4,2,1]\n",
    "y = sorted(x, reverse=True)\n",
    "print y"
   ]
  },
  {
   "cell_type": "code",
   "execution_count": 34,
   "metadata": {
    "collapsed": false
   },
   "outputs": [
    {
     "name": "stdout",
     "output_type": "stream",
     "text": [
      "[[106, 76, 191, 96, 42, 99, 182, 189], [57, 127, 84, 93, 186], [11, 192, 112, 37, 55, 58, 145, 9], [149, 193, 122, 7, 172, 41, 171, 156], [1, 100, 185, 151, 28, 86, 46, 19], [69, 165, 14, 184, 163, 23, 79, 31], [80, 187, 48, 120, 113, 13, 153, 25], [50, 152, 82, 20, 136, 45, 18, 148], [66, 132, 129, 198, 131, 176, 2, 73], [68, 115, 10, 85, 8, 94, 59, 101], [95, 174, 17, 119, 47, 121, 90, 36], [123, 118, 155, 103, 91, 110, 70, 125], [63, 29, 15, 162, 183, 40, 44, 35], [116, 197, 139, 21, 190, 89, 3, 88], [39, 196, 111, 61, 140, 75, 195, 105], [135, 62, 78, 173, 67, 74, 117, 166], [92, 175, 97, 16, 142, 168, 146, 72], [138, 177, 6, 181, 104, 133, 102, 188], [199, 81, 161, 33, 141, 4, 30, 154], [137, 144, 170, 194, 12, 32, 130, 77]]\n"
     ]
    }
   ],
   "source": [
    "# Simply perform the well-known Gale Shapley algorithm for the\n",
    "# national residency match.  This is probably along the lines of\n",
    "# what the national residency match actually implements.\n",
    "def serial_implementation():\n",
    "    hospital_accepted = [[] for i in range(len(hospital_matchings))]\n",
    "    doc_indices = [0] * len(doctor_matchings)\n",
    "    hospital_dicts = [{} for i in range(len(hospital_matchings))]\n",
    "    for i, l in enumerate(hospital_matchings):\n",
    "        for val, ind in enumerate(l):\n",
    "            hospital_dicts[i][ind] = val\n",
    "    iter_n = 0\n",
    "    doc_pool = set(range(len(doctor_matchings)))\n",
    "    # s.discard s.add\n",
    "    brk = True\n",
    "    while brk:\n",
    "        brk = False\n",
    "        hospital_queues = [[] for i in range(len(hospital_matchings))]\n",
    "        to_pop = []\n",
    "        # each remaining doctor proposes to their first choice school\n",
    "        for i, doc in enumerate(doc_pool):\n",
    "            if doc_indices[doc] == numPositionsPerHospital:\n",
    "                doc_pool.discard(doc)\n",
    "                continue\n",
    "            hospital_queues[doctor_matchings[doc][doc_indices[doc]]].append(doc)\n",
    "            doc_indices[doc] += 1\n",
    "        # each hospital accepts its top spots_per_hospital applicants\n",
    "        for j in range(len(hospital_queues)):\n",
    "            old = hospital_accepted[j]\n",
    "            cor = old + [a for a in hospital_queues[j] if a in hospital_dicts[j].keys()]\n",
    "            cor = sorted(cor, key=lambda x: hospital_dicts[j][x])\n",
    "            hospital_accepted[j] = cor[:8]\n",
    "            if hospital_accepted[j] != old:\n",
    "                brk = True\n",
    "            for k in range(min(8, len(cor))):\n",
    "                doc_pool.discard(cor[k])\n",
    "            for k in range(9, len(cor)):\n",
    "                doc_pool.add(cor[k])\n",
    "            \n",
    "        # TODO: check serial implementation stability\n",
    "        iter_n += 1\n",
    "        for p in sorted(to_pop, reverse=True):\n",
    "            doc_pool.pop(p)\n",
    "    return hospital_accepted\n",
    "\n",
    "print serial_implementation()"
   ]
  },
  {
   "cell_type": "code",
   "execution_count": 163,
   "metadata": {
    "collapsed": false
   },
   "outputs": [],
   "source": [
    "# These RDD are KV pairs, where the key is the ID of the doctor/hospital, and the values are the IDs of the respective \n",
    "# doctors or hospitals in order of preference.\n",
    "# By this, I mean that hospitals have a set of preferences over doctors, and doctors have preferences over hospitals\n",
    "doctor_RDD = sc.textFile('doctor_preferences.txt', numPartitions).map(lambda x: map(int, x.split())).zipWithIndex()\\\n",
    "                                                        .map(lambda (x, y): (y, x)).partitionBy(numPartitions)\n",
    "hospital_RDD = sc.textFile('hospital_preferences.txt', numPartitions).map(lambda x: map(int, x.split())).zipWithIndex()\\\n",
    "                                                        .map(lambda (x, y): (y, x)).partitionBy(numPartitions)"
   ]
  },
  {
   "cell_type": "code",
   "execution_count": 164,
   "metadata": {
    "collapsed": false
   },
   "outputs": [],
   "source": [
    "assert(copartitioned(doctor_RDD, hospital_RDD))"
   ]
  },
  {
   "cell_type": "code",
   "execution_count": 165,
   "metadata": {
    "collapsed": false
   },
   "outputs": [],
   "source": [
    "# Preferences is a list of ints in order that you want them\n",
    "# pickingfrom is the ones you are picking from\n",
    "# N is how many you are picking\n",
    "# Ex: pick_top_N([3, 4, 5, 1, 2, 7, 8], [7, 1, 2, 4, 5], 3) -> [4, 5, 1]\n",
    "def pick_top_N(preferences, pickingfrom, N):\n",
    "    pickingfrom.sort(key=lambda x: preferences.index(x))\n",
    "    return pickingfrom[:N] "
   ]
  },
  {
   "cell_type": "code",
   "execution_count": 166,
   "metadata": {
    "collapsed": false
   },
   "outputs": [],
   "source": [
    "doctor_matchings = doctor_RDD.mapValues(lambda x : -1)\n",
    "hospital_matchings = hospital_RDD.mapValues(lambda x: [])"
   ]
  },
  {
   "cell_type": "code",
   "execution_count": 167,
   "metadata": {
    "collapsed": false
   },
   "outputs": [],
   "source": [
    "def combine_old_new(newoptions, oldoptions, preferences):\n",
    "    if newoptions == None:\n",
    "        newoptions = []\n",
    "    if oldoptions == None:\n",
    "        oldoptions = []\n",
    "    alloptions = list(set(newoptions).union(set(oldoptions)))\n",
    "    return pick_top_N(preferences, alloptions, 8)\n"
   ]
  },
  {
   "cell_type": "code",
   "execution_count": 168,
   "metadata": {
    "collapsed": false
   },
   "outputs": [],
   "source": [
    "def accept_new_hospital_assignment(old, new):\n",
    "    if new == None:\n",
    "        return -1\n",
    "    return new"
   ]
  },
  {
   "cell_type": "code",
   "execution_count": 169,
   "metadata": {
    "collapsed": false
   },
   "outputs": [],
   "source": [
    "# If unmatched (match == -1), then we are gonna use try to use the next pref, so one remove from the list\n",
    "def remove_pref_if_needed(prefs, match):\n",
    "    # If unmatched and pref remaining, remove it.\n",
    "    if match == -1 and len(prefs) > 0:\n",
    "        return prefs[1:]\n",
    "    # Else return original prefs\n",
    "    return prefs"
   ]
  },
  {
   "cell_type": "code",
   "execution_count": 170,
   "metadata": {
    "collapsed": false
   },
   "outputs": [],
   "source": [
    "def is_changed(old, new):\n",
    "    if old == -1 and new == None:\n",
    "        return False\n",
    "    elif old == -1 and new != None:\n",
    "        return True\n",
    "    return old != new\n",
    "    "
   ]
  },
  {
   "cell_type": "code",
   "execution_count": 171,
   "metadata": {
    "collapsed": false
   },
   "outputs": [],
   "source": [
    "doctor_prefs = doctor_RDD.map(lambda x: x).partitionBy(numPartitions).cache()"
   ]
  },
  {
   "cell_type": "code",
   "execution_count": 172,
   "metadata": {
    "collapsed": false
   },
   "outputs": [
    {
     "name": "stdout",
     "output_type": "stream",
     "text": [
      "Number of doctors whose status changed 151\n",
      "Number of unmatched preferences to still check 3000\n",
      "Number of doctors whose status changed 57\n",
      "Number of unmatched preferences to still check 686\n",
      "Number of doctors whose status changed 42\n",
      "Number of unmatched preferences to still check 598\n",
      "Number of doctors whose status changed 38\n",
      "Number of unmatched preferences to still check 579\n",
      "Number of doctors whose status changed 44\n",
      "Number of unmatched preferences to still check 534\n",
      "Number of doctors whose status changed 30\n",
      "Number of unmatched preferences to still check 512\n",
      "Number of doctors whose status changed 26\n",
      "Number of unmatched preferences to still check 496\n",
      "Number of doctors whose status changed 16\n",
      "Number of unmatched preferences to still check 478\n",
      "Number of doctors whose status changed 26\n",
      "Number of unmatched preferences to still check 443\n",
      "Number of doctors whose status changed 20\n",
      "Number of unmatched preferences to still check 440\n",
      "Number of doctors whose status changed 22\n",
      "Number of unmatched preferences to still check 430\n",
      "Number of doctors whose status changed 12\n",
      "Number of unmatched preferences to still check 433\n",
      "Number of doctors whose status changed 14\n",
      "Number of unmatched preferences to still check 405\n",
      "Number of doctors whose status changed 20\n",
      "Number of unmatched preferences to still check 389\n",
      "Number of doctors whose status changed 16\n",
      "Number of unmatched preferences to still check 383\n",
      "Number of doctors whose status changed 10\n",
      "Number of unmatched preferences to still check 347\n",
      "Number of doctors whose status changed 22\n",
      "Number of unmatched preferences to still check 336\n",
      "Number of doctors whose status changed 18\n",
      "Number of unmatched preferences to still check 349\n",
      "Number of doctors whose status changed 24\n",
      "Number of unmatched preferences to still check 347\n",
      "Number of doctors whose status changed 10\n",
      "Number of unmatched preferences to still check 354\n",
      "Number of doctors whose status changed 10\n",
      "Number of unmatched preferences to still check 340\n",
      "Number of doctors whose status changed 18\n",
      "Number of unmatched preferences to still check 301\n",
      "Number of doctors whose status changed 14\n",
      "Number of unmatched preferences to still check 281\n",
      "Number of doctors whose status changed 10\n",
      "Number of unmatched preferences to still check 267\n",
      "Number of doctors whose status changed 10\n",
      "Number of unmatched preferences to still check 268\n",
      "Number of doctors whose status changed 6\n",
      "Number of unmatched preferences to still check 276\n",
      "Number of doctors whose status changed 8\n",
      "Number of unmatched preferences to still check 252\n",
      "Number of doctors whose status changed 2\n",
      "Number of unmatched preferences to still check 230\n",
      "Number of doctors whose status changed 14\n",
      "Number of unmatched preferences to still check 210\n",
      "Number of doctors whose status changed 8\n",
      "Number of unmatched preferences to still check 212\n",
      "Number of doctors whose status changed 8\n",
      "Number of unmatched preferences to still check 204\n",
      "Number of doctors whose status changed 8\n",
      "Number of unmatched preferences to still check 199\n",
      "Number of doctors whose status changed 8\n",
      "Number of unmatched preferences to still check 189\n",
      "Number of doctors whose status changed 8\n",
      "Number of unmatched preferences to still check 181\n",
      "Number of doctors whose status changed 2\n",
      "Number of unmatched preferences to still check 174\n",
      "Number of doctors whose status changed 8\n",
      "Number of unmatched preferences to still check 152\n",
      "Number of doctors whose status changed 4\n",
      "Number of unmatched preferences to still check 140\n",
      "Number of doctors whose status changed 4\n",
      "Number of unmatched preferences to still check 123\n",
      "Number of doctors whose status changed 8\n",
      "Number of unmatched preferences to still check 114\n",
      "Number of doctors whose status changed 4\n",
      "Number of unmatched preferences to still check 106\n",
      "Number of doctors whose status changed 2\n",
      "Number of unmatched preferences to still check 91\n",
      "Number of doctors whose status changed 0\n",
      "Number of unmatched preferences to still check 86\n",
      "Number of doctors whose status changed 0\n",
      "Number of unmatched preferences to still check 72\n",
      "Number of doctors whose status changed 0\n",
      "Number of unmatched preferences to still check 59\n",
      "Number of doctors whose status changed 4\n",
      "Number of unmatched preferences to still check 46\n",
      "Number of doctors whose status changed 2\n",
      "Number of unmatched preferences to still check 47\n",
      "Number of doctors whose status changed 2\n",
      "Number of unmatched preferences to still check 47\n",
      "Number of doctors whose status changed 0\n",
      "Number of unmatched preferences to still check 46\n",
      "Number of doctors whose status changed 6\n",
      "Number of unmatched preferences to still check 39\n",
      "Number of doctors whose status changed 2\n",
      "Number of unmatched preferences to still check 39\n",
      "Number of doctors whose status changed 4\n",
      "Number of unmatched preferences to still check 38\n",
      "Number of doctors whose status changed 2\n",
      "Number of unmatched preferences to still check 28\n",
      "Number of doctors whose status changed 2\n",
      "Number of unmatched preferences to still check 23\n",
      "Number of doctors whose status changed 0\n",
      "Number of unmatched preferences to still check 17\n",
      "Number of doctors whose status changed 2\n",
      "Number of unmatched preferences to still check 13\n",
      "Number of doctors whose status changed 0\n",
      "Number of unmatched preferences to still check 18\n",
      "Number of doctors whose status changed 0\n",
      "Number of unmatched preferences to still check 15\n",
      "Number of doctors whose status changed 0\n",
      "Number of unmatched preferences to still check 13\n",
      "Number of doctors whose status changed 2\n",
      "Number of unmatched preferences to still check 11\n",
      "Number of doctors whose status changed 0\n",
      "Number of unmatched preferences to still check 11\n",
      "Number of doctors whose status changed 0\n",
      "Number of unmatched preferences to still check 10\n",
      "Number of doctors whose status changed 2\n",
      "Number of unmatched preferences to still check 9\n",
      "Number of doctors whose status changed 0\n",
      "Number of unmatched preferences to still check 9\n",
      "Number of doctors whose status changed 0\n",
      "Number of unmatched preferences to still check 8\n",
      "Number of doctors whose status changed 0\n",
      "Number of unmatched preferences to still check 7\n",
      "Number of doctors whose status changed 0\n",
      "Number of unmatched preferences to still check 6\n",
      "Number of doctors whose status changed 0\n",
      "Number of unmatched preferences to still check 5\n",
      "Number of doctors whose status changed 0\n",
      "Number of unmatched preferences to still check 4\n",
      "Number of doctors whose status changed 0\n",
      "Number of unmatched preferences to still check 3\n",
      "Number of doctors whose status changed 0\n",
      "Number of unmatched preferences to still check 2\n",
      "Number of doctors whose status changed 0\n",
      "Number of unmatched preferences to still check 1\n",
      "Number of doctors whose status changed 0\n",
      "Number of unmatched preferences to still check 0\n"
     ]
    }
   ],
   "source": [
    "accum = sc.accumulator(1)\n",
    "accum2 = sc.accumulator(1)\n",
    "while accum.value > 0 or accum2.value > 0:\n",
    "    accum.value = 0\n",
    "    accum2.value = 0\n",
    "    # These are the top remaining choices for the unmatched doctors\n",
    "    assert(copartitioned(doctor_prefs, doctor_matchings))\n",
    "    unmatched_doctor_preferences = doctor_prefs.join(doctor_matchings).filter(lambda (doc, (prefs, match)): match == -1 and len(prefs) > 0).mapValues(lambda (prefs, match): prefs)\n",
    "    unmatched_doctor_preferences.foreach(lambda (x, prefs): accum2.add(len(prefs)))\n",
    "\n",
    "    # Update all of the doctor prefs by removing the first pref from each unmatched doctor\n",
    "    assert(copartitioned(doctor_prefs, doctor_matchings))\n",
    "    doctor_prefs = doctor_prefs.join(doctor_matchings).mapValues(lambda (prefs, match): remove_pref_if_needed(prefs, match)).cache()\n",
    "    # Take the first pref from each unmatched doctor \n",
    "    doctor_proposals = unmatched_doctor_preferences.mapValues(lambda x: x[0])\n",
    "    # Group the requests by hospital\n",
    "    hospital_groupings = doctor_proposals.map(lambda (x, y) : (y, x)).partitionBy(numPartitions).groupByKey()\n",
    "    # Join the new requests for each hospital with what they previously had and their preferences\n",
    "    assert(copartitioned(hospital_groupings, hospital_matchings))\n",
    "    assert(copartitioned(hospital_groupings, hospital_RDD))\n",
    "    joined_hospital = hospital_groupings.rightOuterJoin(hospital_matchings).join(hospital_RDD)\n",
    "    # Determine the best ones\n",
    "    hospital_matchings = joined_hospital.mapValues(lambda ((new, old), preferences): combine_old_new(new, old, preferences)).cache()\n",
    "    # Inform the doctors of the match\n",
    "    matched_doctors = hospital_matchings.flatMapValues(lambda x: x).map(lambda (x, y) : (y, x)).partitionBy(numPartitions)\n",
    "    # Update the doctor matchings\n",
    "    assert(copartitioned(doctor_matchings, matched_doctors))\n",
    "    doctor_join = doctor_matchings.leftOuterJoin(matched_doctors).cache()\n",
    "    doctor_join.filter(lambda (key, (old, new)): is_changed(old, new)).foreach(lambda x: accum.add(1))\n",
    "    doctor_matchings = doctor_join.mapValues(lambda (old,new) : accept_new_hospital_assignment(old, new)).cache()\n",
    "    print \"Number of doctors whose status changed\", accum.value\n",
    "    print \"Number of unmatched preferences to still check\", accum2.value\n",
    "    sys.stdout.flush()\n"
   ]
  },
  {
   "cell_type": "code",
   "execution_count": 173,
   "metadata": {
    "collapsed": false
   },
   "outputs": [
    {
     "name": "stdout",
     "output_type": "stream",
     "text": [
      "[(0, [187, 75, 20, 106, 5, 128, 127, 76]), (1, [41, 4, 88, 197, 162, 182, 56, 154]), (2, [11, 126, 32, 30, 192, 72, 167, 60]), (3, [29, 71, 98, 44, 23, 115, 139, 176]), (4, [1, 100, 185, 31, 18, 186, 193, 148]), (5, [130, 57, 87, 69, 7, 67, 165, 53]), (6, [173, 158, 195, 129, 26, 80, 64, 73]), (7, [180, 50, 55, 159, 152, 171, 133, 22]), (8, [21, 84, 46, 89, 110, 146, 15, 66]), (9, [155, 103, 68, 111, 174, 108, 52, 47]), (10, [13, 93, 179, 105, 95, 191, 99, 112]), (11, [86, 9, 123, 184, 118, 8, 83, 28]), (12, [63, 27, 147, 36, 82, 104, 141, 48]), (13, [37, 33, 90, 24, 121, 116, 114, 65]), (14, [137, 119, 102, 39, 194, 196, 19, 151]), (15, [45, 135, 125, 156, 113, 178, 164, 34]), (16, [120, 25, 54, 143, 149, 77, 160, 51]), (17, [85, 35, 94, 79, 136, 150, 138, 42]), (18, [166, 97, 61, 58, 199, 81, 10, 38]), (19, [101, 198, 190, 172, 189, 43, 134, 175])]\n"
     ]
    }
   ],
   "source": [
    "print hospital_matchings.take(30)"
   ]
  },
  {
   "cell_type": "code",
   "execution_count": 174,
   "metadata": {
    "collapsed": false
   },
   "outputs": [
    {
     "name": "stdout",
     "output_type": "stream",
     "text": [
      "[(0, -1), (64, 6), (128, 0), (192, 2), (129, 6), (193, 4), (65, 13), (1, 4), (194, 14), (66, 8), (2, -1), (130, 5), (3, -1), (67, 5), (131, -1), (195, 6), (132, -1), (68, 9), (196, 14), (4, 1), (197, 1), (5, 0), (69, 5), (133, 7), (6, -1), (70, -1), (198, 19), (134, 19), (7, 5), (135, 15), (199, 18), (71, 3), (8, 11), (72, 2), (136, 17), (137, 14), (73, 6), (9, 11), (10, 18), (74, -1), (138, 17), (11, 2), (75, 0), (139, 3), (140, -1), (76, 0), (12, -1), (13, 10), (77, 16), (141, 12), (14, -1), (78, -1), (142, -1), (15, 8), (143, 16), (79, 17), (16, -1), (80, 6), (144, -1), (145, -1), (81, 18), (17, -1), (18, 4), (82, 12), (146, 8), (19, 14), (83, 11), (147, 12), (148, 4), (84, 8), (20, 0), (21, 8), (85, 17), (149, 16), (22, 7), (86, 11), (150, 17), (23, 3), (151, 14), (87, 5), (24, 13), (88, 1), (152, 7), (153, -1), (89, 8), (25, 16), (26, 6), (90, 13), (154, 1), (27, 12), (91, -1), (155, 9), (156, 15), (92, -1), (28, 11), (29, 3), (93, 10), (157, -1), (30, 2), (94, 17), (158, 6), (31, 4), (159, 7), (95, 10), (32, 2), (96, -1), (160, 16), (33, 13), (97, 18), (161, -1), (34, 15), (98, 3), (162, 1), (35, 17), (99, 10), (163, -1), (164, 15), (100, 4), (36, 12), (37, 13), (101, 19), (165, 5), (38, 18), (102, 14), (166, 18), (39, 14), (167, 2), (103, 9), (40, -1), (104, 12), (168, -1), (41, 1), (105, 10), (169, -1), (42, 17), (106, 0), (170, -1), (43, 19), (107, -1), (171, 7), (172, 19), (108, 9), (44, 3), (45, 15), (109, -1), (173, 6), (46, 8), (110, 8), (174, 9), (47, 9), (175, 19), (111, 9), (48, 12), (112, 10), (176, 3), (49, -1), (113, 15), (177, -1), (50, 7), (114, 13), (178, 15), (51, 16), (115, 3), (179, 10), (180, 7), (116, 13), (52, 9), (53, 5), (117, -1), (181, -1), (54, 16), (118, 11), (182, 1), (55, 7), (183, -1), (119, 14), (56, 1), (120, 16), (184, 11), (57, 5), (121, 13), (185, 4), (58, 18), (122, -1), (186, 4), (59, -1), (123, 11), (187, 0), (188, -1), (124, -1), (60, 2), (61, 18), (125, 15), (189, 19), (62, -1), (126, 2), (190, 19), (63, 12), (191, 10), (127, 0)]\n"
     ]
    }
   ],
   "source": [
    "print doctor_matchings.take(500)"
   ]
  },
  {
   "cell_type": "code",
   "execution_count": 175,
   "metadata": {
    "collapsed": false
   },
   "outputs": [
    {
     "data": {
      "text/plain": [
       "[[2, 11, 9, 16, 13, 19, 0, 10, 8, 7, 18, 6, 3, 4, 2]]"
      ]
     },
     "execution_count": 175,
     "metadata": {},
     "output_type": "execute_result"
    }
   ],
   "source": [
    "doctor_RDD.lookup(0)"
   ]
  },
  {
   "cell_type": "code",
   "execution_count": 176,
   "metadata": {
    "collapsed": false
   },
   "outputs": [],
   "source": [
    "# Given a match that a doctor had and the original preferences, determine all of the hospitals the doctor would have preferred.\n",
    "def getpreferredhospitals(match, preferences):\n",
    "    # If you weren't matched, you would have preferred any of the original ranked ones\n",
    "    if match == -1:\n",
    "        return preferences\n",
    "    # If you were matched, you would have preferred everything up until that one.\n",
    "    return preferences[:preferences.index(match)]"
   ]
  },
  {
   "cell_type": "code",
   "execution_count": 177,
   "metadata": {
    "collapsed": false
   },
   "outputs": [],
   "source": [
    "# Given the matches that a hospital got, determine all of the doctors the hospital would have preferred\n",
    "def getpreferreddoctors(matches, preferences):\n",
    "    # Figure out out which of the preferences were actually picked\n",
    "    indicies = [preferences.index(match) for match in matches]\n",
    "    max_index = max(indicies)\n",
    "    # Get all of the people up until the worst person picked\n",
    "    best_people = set(preferences[:max_index])\n",
    "    # Remove the people that were successfully picked\n",
    "    better_people = best_people - set(matches)\n",
    "    return list(best_people)"
   ]
  },
  {
   "cell_type": "code",
   "execution_count": 178,
   "metadata": {
    "collapsed": false
   },
   "outputs": [],
   "source": [
    "# Checks if all of the matches are valid, by which we mean checks\n",
    "# stability in the formal sense. As defined in the stable marriage problem,\n",
    "# a matching is unstable if there are two pairs, (m, w) and (m', w') s.t.\n",
    "# both would rather switch.\n",
    "def verify_matches(doc_matches, hos_matches, original_doc_prefs, original_hos_prefs):\n",
    "    doctor_to_hospital_preferences = doc_matches.join(original_doc_prefs).mapValues(lambda (match, preferences): getpreferredhospitals(match, preferences)).flatMapValues(lambda x: x)\n",
    "    hospital_to_doctor_preferences = hos_matches.join(original_hos_prefs).mapValues(lambda (matches, preferences): getpreferreddoctors(matches, preferences)).flatMapValues(lambda x: x)\n",
    "    return doctor_to_hospital_preferences.map(lambda (x,y): (y,x)).intersection(hospital_to_doctor_preferences)"
   ]
  },
  {
   "cell_type": "code",
   "execution_count": 179,
   "metadata": {
    "collapsed": false
   },
   "outputs": [],
   "source": [
    "bad_results = verify_matches(doctor_matchings, hospital_matchings, doctor_RDD, hospital_RDD)\n",
    "# If the assertion passes, then this is a valid matching!\n",
    "assert(bad_results.count() == 0)"
   ]
  },
  {
   "cell_type": "code",
   "execution_count": 150,
   "metadata": {
    "collapsed": false
   },
   "outputs": [
    {
     "data": {
      "text/plain": [
       "[[19, 16, 13, 2, 3, 6, 9, 1, 0, 11, 7, 12, 18, 10, 14]]"
      ]
     },
     "execution_count": 150,
     "metadata": {},
     "output_type": "execute_result"
    }
   ],
   "source": [
    "doctor_RDD.lookup(137)"
   ]
  }
 ],
 "metadata": {
  "kernelspec": {
   "display_name": "Python 2",
   "language": "python",
   "name": "python2"
  },
  "language_info": {
   "codemirror_mode": {
    "name": "ipython",
    "version": 2
   },
   "file_extension": ".py",
   "mimetype": "text/x-python",
   "name": "python",
   "nbconvert_exporter": "python",
   "pygments_lexer": "ipython2",
   "version": "2.7.9"
  }
 },
 "nbformat": 4,
 "nbformat_minor": 0
}
