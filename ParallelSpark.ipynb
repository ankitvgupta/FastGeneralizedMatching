{
 "metadata": {
  "name": "",
  "signature": "sha256:73795f148a7bc0e9d4715f78fece07ef66e38dbadc1b014ba7180b0e3de70a85"
 },
 "nbformat": 3,
 "nbformat_minor": 0,
 "worksheets": [
  {
   "cells": [
    {
     "cell_type": "code",
     "collapsed": false,
     "input": [
      "import findspark\n",
      "findspark.init()\n",
      "\n",
      "import pyspark\n",
      "sc = pyspark.SparkContext(appName=\"Spark1\")\n",
      "\n",
      "\n",
      "import numpy as np\n",
      "import itertools\n",
      "\n",
      "# Reduce the amount that Spark logs to the console.\n",
      "logger = sc._jvm.org.apache.log4j\n",
      "logger.LogManager.getLogger(\"org\"). setLevel( logger.Level.ERROR )\n",
      "logger.LogManager.getLogger(\"akka\").setLevel( logger.Level.ERROR )"
     ],
     "language": "python",
     "metadata": {},
     "outputs": [],
     "prompt_number": 1
    },
    {
     "cell_type": "code",
     "collapsed": false,
     "input": [
      "import sys"
     ],
     "language": "python",
     "metadata": {},
     "outputs": [],
     "prompt_number": 62
    },
    {
     "cell_type": "code",
     "collapsed": false,
     "input": [
      "def copartitioned(RDD1, RDD2):\n",
      "    \"check if two RDDs are copartitioned\"\n",
      "    return RDD1.partitioner == RDD2.partitioner"
     ],
     "language": "python",
     "metadata": {},
     "outputs": [],
     "prompt_number": 88
    },
    {
     "cell_type": "code",
     "collapsed": false,
     "input": [
      "doctor_matchings = np.loadtxt(\"doctor_preferences.txt\").astype(int)\n",
      "hospital_matchings = np.loadtxt(\"hospital_preferences.txt\").astype(int)"
     ],
     "language": "python",
     "metadata": {},
     "outputs": [],
     "prompt_number": 89
    },
    {
     "cell_type": "code",
     "collapsed": false,
     "input": [
      "spots_per_hospital = 8\n",
      "numPartitions = 64"
     ],
     "language": "python",
     "metadata": {},
     "outputs": [],
     "prompt_number": 90
    },
    {
     "cell_type": "code",
     "collapsed": false,
     "input": [
      "# These RDD are KV pairs, where the key is the ID of the doctor/hospital, and the values are the IDs of the respective \n",
      "# doctors or hospitals in order of preference.\n",
      "# By this, I mean that hospitals have a set of preferences over doctors, and doctors have preferences over hospitals\n",
      "doctor_RDD = sc.textFile('doctor_preferences.txt', numPartitions).map(lambda x: map(int, x.split())).zipWithIndex()\\\n",
      "                                                        .map(lambda (x, y): (y, x)).partitionBy(numPartitions)\n",
      "hospital_RDD = sc.textFile('hospital_preferences.txt', numPartitions).map(lambda x: map(int, x.split())).zipWithIndex()\\\n",
      "                                                        .map(lambda (x, y): (y, x)).partitionBy(numPartitions)"
     ],
     "language": "python",
     "metadata": {},
     "outputs": [],
     "prompt_number": 91
    },
    {
     "cell_type": "code",
     "collapsed": false,
     "input": [
      "\n",
      "\n",
      "assert(copartitioned(doctor_RDD, hospital_RDD))\n"
     ],
     "language": "python",
     "metadata": {},
     "outputs": [],
     "prompt_number": 92
    },
    {
     "cell_type": "code",
     "collapsed": false,
     "input": [],
     "language": "python",
     "metadata": {},
     "outputs": [],
     "prompt_number": 92
    },
    {
     "cell_type": "code",
     "collapsed": false,
     "input": [],
     "language": "python",
     "metadata": {},
     "outputs": [],
     "prompt_number": 92
    },
    {
     "cell_type": "code",
     "collapsed": false,
     "input": [
      "# Preferences is a list of ints in order that you want them\n",
      "# pickingfrom is the ones you are picking from\n",
      "# N is how many you are picking\n",
      "# Ex: pick_top_N([3, 4, 5, 1, 2, 7, 8], [7, 1, 2, 4, 5], 3) -> [4, 5, 1]\n",
      "def pick_top_N(preferences, pickingfrom, N):\n",
      "    pickingfrom.sort(key=lambda x: preferences.index(x))\n",
      "    return pickingfrom[:N]\n",
      "\n",
      "    "
     ],
     "language": "python",
     "metadata": {},
     "outputs": [],
     "prompt_number": 93
    },
    {
     "cell_type": "code",
     "collapsed": false,
     "input": [],
     "language": "python",
     "metadata": {},
     "outputs": [],
     "prompt_number": 93
    },
    {
     "cell_type": "code",
     "collapsed": false,
     "input": [
      "doctor_matchings = doctor_RDD.mapValues(lambda x : -1)\n",
      "hospital_matchings = hospital_RDD.mapValues(lambda x: [])"
     ],
     "language": "python",
     "metadata": {},
     "outputs": [],
     "prompt_number": 94
    },
    {
     "cell_type": "code",
     "collapsed": false,
     "input": [
      "def combine_old_new(newoptions, oldoptions, preferences):\n",
      "    if newoptions == None:\n",
      "        newoptions = []\n",
      "    if oldoptions == None:\n",
      "        oldoptions = []\n",
      "    alloptions = list(set(newoptions).union(set(oldoptions)))\n",
      "    return pick_top_N(preferences, alloptions, 8)\n"
     ],
     "language": "python",
     "metadata": {},
     "outputs": [],
     "prompt_number": 95
    },
    {
     "cell_type": "code",
     "collapsed": false,
     "input": [
      "def accept_new_hospital_assignment(old, new):\n",
      "    if new == None:\n",
      "        return -1\n",
      "    return new"
     ],
     "language": "python",
     "metadata": {},
     "outputs": [],
     "prompt_number": 96
    },
    {
     "cell_type": "code",
     "collapsed": false,
     "input": [
      "# If unmatched (match == -1), then we are gonna use try to use the next pref, so one remove from the list\n",
      "def remove_pref_if_needed(prefs, match):\n",
      "    # If unmatched and pref remaining, remove it.\n",
      "    if match == -1 and len(prefs) > 0:\n",
      "        return prefs[1:]\n",
      "    # Else return original prefs\n",
      "    return prefs"
     ],
     "language": "python",
     "metadata": {},
     "outputs": [],
     "prompt_number": 97
    },
    {
     "cell_type": "code",
     "collapsed": false,
     "input": [
      "def is_changed(old, new):\n",
      "    if old == -1 and new == None:\n",
      "        return False\n",
      "    elif old == -1 and new != None:\n",
      "        return True\n",
      "    return old != new\n",
      "    "
     ],
     "language": "python",
     "metadata": {},
     "outputs": [],
     "prompt_number": 98
    },
    {
     "cell_type": "code",
     "collapsed": false,
     "input": [
      "doctor_prefs = doctor_RDD.map(lambda x: x).partitionBy(numPartitions).cache()"
     ],
     "language": "python",
     "metadata": {},
     "outputs": [],
     "prompt_number": 99
    },
    {
     "cell_type": "code",
     "collapsed": false,
     "input": [
      "accum = sc.accumulator(1)\n",
      "while accum.value > 0:\n",
      "    accum.value = 0\n",
      "    # These are the top remaining choices for the unmatched doctors\n",
      "    assert(copartitioned(doctor_prefs, doctor_matchings))\n",
      "    unmatched_doctor_preferences = doctor_prefs.join(doctor_matchings).filter(lambda (doc, (prefs, match)): match == -1 and len(prefs) > 0).mapValues(lambda (prefs, match): prefs)\n",
      "    # Update all of the doctor prefs by removing the first pref from each unmatched doctor\n",
      "    assert(copartitioned(doctor_prefs, doctor_matchings))\n",
      "    doctor_prefs = doctor_prefs.join(doctor_matchings).mapValues(lambda (prefs, match): remove_pref_if_needed(prefs, match)).cache()\n",
      "    # Take the first pref from each unmatched doctor \n",
      "    doctor_proposals = unmatched_doctor_preferences.mapValues(lambda x: x[0])\n",
      "    # Group the requests by hospital\n",
      "    hospital_groupings = doctor_proposals.map(lambda (x, y) : (y, x)).partitionBy(numPartitions).groupByKey()\n",
      "    # Join the new requests for each hospital with what they previously had and their preferences\n",
      "    assert(copartitioned(hospital_groupings, hospital_matchings))\n",
      "    assert(copartitioned(hospital_groupings, hospital_RDD))\n",
      "    joined_hospital = hospital_groupings.rightOuterJoin(hospital_matchings).join(hospital_RDD)\n",
      "    # Determine the best ones\n",
      "    hospital_matchings = joined_hospital.mapValues(lambda ((new, old), preferences): combine_old_new(new, old, preferences)).cache()\n",
      "    # Inform the doctors of the match\n",
      "    matched_doctors = hospital_matchings.flatMapValues(lambda x: x).map(lambda (x, y) : (y, x)).partitionBy(numPartitions)\n",
      "    # Update the doctor matchings\n",
      "    assert(copartitioned(doctor_matchings, matched_doctors))\n",
      "    doctor_join = doctor_matchings.leftOuterJoin(matched_doctors).cache()\n",
      "    doctor_join.filter(lambda (key, (old, new)): is_changed(old, new)).foreach(lambda x: accum.add(1))\n",
      "    doctor_matchings = doctor_join.mapValues(lambda (old,new) : accept_new_hospital_assignment(old, new)).cache()\n",
      "    print \"Number of doctors whose status changed\", accum.value\n",
      "    sys.stdout.flush()\n"
     ],
     "language": "python",
     "metadata": {},
     "outputs": [
      {
       "output_type": "stream",
       "stream": "stdout",
       "text": [
        "Number of doctors whose status changed 151\n"
       ]
      },
      {
       "output_type": "stream",
       "stream": "stdout",
       "text": [
        "Number of doctors whose status changed 57\n"
       ]
      },
      {
       "output_type": "stream",
       "stream": "stdout",
       "text": [
        "Number of doctors whose status changed 42\n"
       ]
      },
      {
       "output_type": "stream",
       "stream": "stdout",
       "text": [
        "Number of doctors whose status changed 38\n"
       ]
      },
      {
       "output_type": "stream",
       "stream": "stdout",
       "text": [
        "Number of doctors whose status changed 44\n"
       ]
      },
      {
       "output_type": "stream",
       "stream": "stdout",
       "text": [
        "Number of doctors whose status changed 30\n"
       ]
      },
      {
       "output_type": "stream",
       "stream": "stdout",
       "text": [
        "Number of doctors whose status changed 26\n"
       ]
      },
      {
       "output_type": "stream",
       "stream": "stdout",
       "text": [
        "Number of doctors whose status changed 16\n"
       ]
      },
      {
       "output_type": "stream",
       "stream": "stdout",
       "text": [
        "Number of doctors whose status changed 26\n"
       ]
      },
      {
       "output_type": "stream",
       "stream": "stdout",
       "text": [
        "Number of doctors whose status changed 20\n"
       ]
      },
      {
       "output_type": "stream",
       "stream": "stdout",
       "text": [
        "Number of doctors whose status changed 22\n"
       ]
      },
      {
       "output_type": "stream",
       "stream": "stdout",
       "text": [
        "Number of doctors whose status changed 12\n"
       ]
      },
      {
       "output_type": "stream",
       "stream": "stdout",
       "text": [
        "Number of doctors whose status changed 14\n"
       ]
      },
      {
       "output_type": "stream",
       "stream": "stdout",
       "text": [
        "Number of doctors whose status changed 20\n"
       ]
      },
      {
       "output_type": "stream",
       "stream": "stdout",
       "text": [
        "Number of doctors whose status changed 16\n"
       ]
      },
      {
       "output_type": "stream",
       "stream": "stdout",
       "text": [
        "Number of doctors whose status changed 10\n"
       ]
      },
      {
       "output_type": "stream",
       "stream": "stdout",
       "text": [
        "Number of doctors whose status changed 22\n"
       ]
      },
      {
       "output_type": "stream",
       "stream": "stdout",
       "text": [
        "Number of doctors whose status changed 18\n"
       ]
      },
      {
       "output_type": "stream",
       "stream": "stdout",
       "text": [
        "Number of doctors whose status changed 24\n"
       ]
      },
      {
       "output_type": "stream",
       "stream": "stdout",
       "text": [
        "Number of doctors whose status changed 10\n"
       ]
      },
      {
       "output_type": "stream",
       "stream": "stdout",
       "text": [
        "Number of doctors whose status changed 10\n"
       ]
      },
      {
       "output_type": "stream",
       "stream": "stdout",
       "text": [
        "Number of doctors whose status changed 18\n"
       ]
      },
      {
       "output_type": "stream",
       "stream": "stdout",
       "text": [
        "Number of doctors whose status changed 14\n"
       ]
      },
      {
       "output_type": "stream",
       "stream": "stdout",
       "text": [
        "Number of doctors whose status changed 10\n"
       ]
      },
      {
       "output_type": "stream",
       "stream": "stdout",
       "text": [
        "Number of doctors whose status changed 10\n"
       ]
      },
      {
       "output_type": "stream",
       "stream": "stdout",
       "text": [
        "Number of doctors whose status changed 6\n"
       ]
      },
      {
       "output_type": "stream",
       "stream": "stdout",
       "text": [
        "Number of doctors whose status changed 8\n"
       ]
      },
      {
       "output_type": "stream",
       "stream": "stdout",
       "text": [
        "Number of doctors whose status changed 2\n"
       ]
      },
      {
       "output_type": "stream",
       "stream": "stdout",
       "text": [
        "Number of doctors whose status changed 14\n"
       ]
      },
      {
       "output_type": "stream",
       "stream": "stdout",
       "text": [
        "Number of doctors whose status changed 8\n"
       ]
      },
      {
       "output_type": "stream",
       "stream": "stdout",
       "text": [
        "Number of doctors whose status changed 8\n"
       ]
      },
      {
       "output_type": "stream",
       "stream": "stdout",
       "text": [
        "Number of doctors whose status changed 8\n"
       ]
      },
      {
       "output_type": "stream",
       "stream": "stdout",
       "text": [
        "Number of doctors whose status changed 8\n"
       ]
      },
      {
       "output_type": "stream",
       "stream": "stdout",
       "text": [
        "Number of doctors whose status changed 8\n"
       ]
      },
      {
       "output_type": "stream",
       "stream": "stdout",
       "text": [
        "Number of doctors whose status changed 2\n"
       ]
      },
      {
       "output_type": "stream",
       "stream": "stdout",
       "text": [
        "Number of doctors whose status changed 8\n"
       ]
      },
      {
       "output_type": "stream",
       "stream": "stdout",
       "text": [
        "Number of doctors whose status changed 4\n"
       ]
      },
      {
       "output_type": "stream",
       "stream": "stdout",
       "text": [
        "Number of doctors whose status changed 4\n"
       ]
      },
      {
       "output_type": "stream",
       "stream": "stdout",
       "text": [
        "Number of doctors whose status changed 8\n"
       ]
      },
      {
       "output_type": "stream",
       "stream": "stdout",
       "text": [
        "Number of doctors whose status changed 4\n"
       ]
      },
      {
       "output_type": "stream",
       "stream": "stdout",
       "text": [
        "Number of doctors whose status changed 2\n"
       ]
      },
      {
       "output_type": "stream",
       "stream": "stdout",
       "text": [
        "Number of doctors whose status changed 0\n"
       ]
      }
     ],
     "prompt_number": 100
    },
    {
     "cell_type": "code",
     "collapsed": false,
     "input": [
      "print hospital_matchings.take(30)"
     ],
     "language": "python",
     "metadata": {},
     "outputs": [
      {
       "output_type": "stream",
       "stream": "stdout",
       "text": [
        "[(0, [187, 75, 20, 106, 5, 128, 127, 76]), (1, [41, 4, 88, 197, 162, 182, 154, 70]), (2, [11, 126, 32, 30, 192, 72, 167, 60]), (3, [29, 71, 44, 23, 139, 176, 149, 56]), (4, [1, 100, 185, 31, 18, 186, 148, 42]), (5, [130, 57, 87, 69, 7, 67, 165, 53]), (6, [173, 195, 129, 26, 80, 64, 73, 166]), (7, [180, 50, 55, 159, 152, 171, 22, 193]), (8, [21, 84, 46, 89, 110, 146, 15, 66]), (9, [155, 103, 68, 111, 108, 52, 47, 98]), (10, [13, 93, 179, 105, 95, 99, 112, 133]), (11, [86, 9, 123, 184, 118, 8, 83, 28]), (12, [63, 27, 147, 36, 82, 104, 141, 48]), (13, [37, 33, 90, 24, 121, 116, 114, 65]), (14, [119, 39, 194, 196, 19, 151, 91, 188]), (15, [135, 125, 156, 113, 178, 164, 34, 158]), (16, [120, 25, 54, 143, 77, 160, 51, 102]), (17, [85, 35, 94, 79, 136, 150, 138, 163]), (18, [97, 61, 58, 199, 81, 10, 38, 157]), (19, [101, 198, 190, 172, 189, 43, 134, 175])]\n"
       ]
      }
     ],
     "prompt_number": 102
    },
    {
     "cell_type": "code",
     "collapsed": false,
     "input": [
      "print doctor_matchings.take(500)"
     ],
     "language": "python",
     "metadata": {},
     "outputs": [
      {
       "output_type": "stream",
       "stream": "stdout",
       "text": [
        "[(0, -1), (64, 6), (128, 0), (192, 2), (129, 6), (193, 7), (65, 13), (1, 4), (194, 14), (66, 8), (2, -1), (130, 5), (3, -1), (67, 5), (131, -1), (195, 6), (132, -1), (68, 9), (196, 14), (4, 1), (197, 1), (5, 0), (69, 5), (133, 10), (6, -1), (70, 1), (198, 19), (134, 19), (7, 5), (135, 15), (199, 18), (71, 3), (8, 11), (72, 2), (136, 17), (137, -1), (73, 6), (9, 11), (10, 18), (74, -1), (138, 17), (11, 2), (75, 0), (139, 3), (140, -1), (76, 0), (12, -1), (13, 10), (77, 16), (141, 12), (14, -1), (78, -1), (142, -1), (15, 8), (143, 16), (79, 17), (16, -1), (80, 6), (144, -1), (145, -1), (81, 18), (17, -1), (18, 4), (82, 12), (146, 8), (19, 14), (83, 11), (147, 12), (148, 4), (84, 8), (20, 0), (21, 8), (85, 17), (149, 3), (22, 7), (86, 11), (150, 17), (23, 3), (151, 14), (87, 5), (24, 13), (88, 1), (152, 7), (153, -1), (89, 8), (25, 16), (26, 6), (90, 13), (154, 1), (27, 12), (91, 14), (155, 9), (156, 15), (92, -1), (28, 11), (29, 3), (93, 10), (157, 18), (30, 2), (94, 17), (158, 15), (31, 4), (159, 7), (95, 10), (32, 2), (96, -1), (160, 16), (33, 13), (97, 18), (161, -1), (34, 15), (98, 9), (162, 1), (35, 17), (99, 10), (163, 17), (164, 15), (100, 4), (36, 12), (37, 13), (101, 19), (165, 5), (38, 18), (102, 16), (166, 6), (39, 14), (167, 2), (103, 9), (40, -1), (104, 12), (168, -1), (41, 1), (105, 10), (169, -1), (42, 4), (106, 0), (170, -1), (43, 19), (107, -1), (171, 7), (172, 19), (108, 9), (44, 3), (45, -1), (109, -1), (173, 6), (46, 8), (110, 8), (174, -1), (47, 9), (175, 19), (111, 9), (48, 12), (112, 10), (176, 3), (49, -1), (113, 15), (177, -1), (50, 7), (114, 13), (178, 15), (51, 16), (115, -1), (179, 10), (180, 7), (116, 13), (52, 9), (53, 5), (117, -1), (181, -1), (54, 16), (118, 11), (182, 1), (55, 7), (183, -1), (119, 14), (56, 3), (120, 16), (184, 11), (57, 5), (121, 13), (185, 4), (58, 18), (122, -1), (186, 4), (59, -1), (123, 11), (187, 0), (188, 14), (124, -1), (60, 2), (61, 18), (125, 15), (189, 19), (62, -1), (126, 2), (190, 19), (63, 12), (191, -1), (127, 0)]\n"
       ]
      }
     ],
     "prompt_number": 103
    },
    {
     "cell_type": "code",
     "collapsed": false,
     "input": [],
     "language": "python",
     "metadata": {},
     "outputs": [
      {
       "metadata": {},
       "output_type": "pyout",
       "prompt_number": 105,
       "text": [
        "defaultdict(<type 'int'>, {0: 8, 1: 8, 2: 8, 3: 8, 4: 8, 5: 8, 6: 8, 7: 8, 8: 8, 9: 8, 10: 8, 11: 8, 12: 8, 13: 8, 14: 8, 15: 8, 16: 8, 17: 8, 18: 8, 19: 8, -1: 40})"
       ]
      }
     ],
     "prompt_number": 105
    },
    {
     "cell_type": "code",
     "collapsed": false,
     "input": [
      "doctor_RDD.lookup(0)"
     ],
     "language": "python",
     "metadata": {},
     "outputs": [
      {
       "metadata": {},
       "output_type": "pyout",
       "prompt_number": 39,
       "text": [
        "[[2, 11, 9, 16, 13, 19, 0, 10, 8, 7, 18, 6, 3, 4, 2]]"
       ]
      }
     ],
     "prompt_number": 39
    },
    {
     "cell_type": "code",
     "collapsed": false,
     "input": [],
     "language": "python",
     "metadata": {},
     "outputs": []
    }
   ],
   "metadata": {}
  }
 ]
}