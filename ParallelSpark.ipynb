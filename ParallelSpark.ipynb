{
 "metadata": {
  "name": "",
  "signature": "sha256:2614c309d090037fe919b5b6e27bbd66f520f5160d2e47b11bcf5244550b0a20"
 },
 "nbformat": 3,
 "nbformat_minor": 0,
 "worksheets": [
  {
   "cells": [
    {
     "cell_type": "code",
     "collapsed": false,
     "input": [
      "import findspark\n",
      "findspark.init()\n",
      "\n",
      "import pyspark\n",
      "sc = pyspark.SparkContext(appName=\"Spark1\")\n",
      "\n",
      "\n",
      "import numpy as np\n",
      "import itertools\n",
      "\n",
      "# Reduce the amount that Spark logs to the console.\n",
      "logger = sc._jvm.org.apache.log4j\n",
      "logger.LogManager.getLogger(\"org\"). setLevel( logger.Level.ERROR )\n",
      "logger.LogManager.getLogger(\"akka\").setLevel( logger.Level.ERROR )"
     ],
     "language": "python",
     "metadata": {},
     "outputs": [],
     "prompt_number": 1
    },
    {
     "cell_type": "code",
     "collapsed": false,
     "input": [
      "import sys"
     ],
     "language": "python",
     "metadata": {},
     "outputs": [],
     "prompt_number": 159
    },
    {
     "cell_type": "code",
     "collapsed": false,
     "input": [
      "def copartitioned(RDD1, RDD2):\n",
      "    \"check if two RDDs are copartitioned\"\n",
      "    return RDD1.partitioner == RDD2.partitioner"
     ],
     "language": "python",
     "metadata": {},
     "outputs": [],
     "prompt_number": 184
    },
    {
     "cell_type": "code",
     "collapsed": false,
     "input": [
      "doctor_matchings = np.loadtxt(\"doctor_preferences.txt\").astype(int)\n",
      "hospital_matchings = np.loadtxt(\"hospital_preferences.txt\").astype(int)"
     ],
     "language": "python",
     "metadata": {},
     "outputs": [],
     "prompt_number": 185
    },
    {
     "cell_type": "code",
     "collapsed": false,
     "input": [
      "spots_per_hospital = 8\n",
      "numPartitions = 64"
     ],
     "language": "python",
     "metadata": {},
     "outputs": [],
     "prompt_number": 186
    },
    {
     "cell_type": "code",
     "collapsed": false,
     "input": [
      "# These RDD are KV pairs, where the key is the ID of the doctor/hospital, and the values are the IDs of the respective \n",
      "# doctors or hospitals in order of preference.\n",
      "# By this, I mean that hospitals have a set of preferences over doctors, and doctors have preferences over hospitals\n",
      "doctor_RDD = sc.textFile('doctor_preferences.txt', numPartitions).map(lambda x: map(int, x.split())).zipWithIndex()\\\n",
      "                                                        .map(lambda (x, y): (y, x)).partitionBy(numPartitions)\n",
      "hospital_RDD = sc.textFile('hospital_preferences.txt', numPartitions).map(lambda x: map(int, x.split())).zipWithIndex()\\\n",
      "                                                        .map(lambda (x, y): (y, x)).partitionBy(numPartitions)"
     ],
     "language": "python",
     "metadata": {},
     "outputs": [],
     "prompt_number": 187
    },
    {
     "cell_type": "code",
     "collapsed": false,
     "input": [
      "\n",
      "\n",
      "assert(copartitioned(doctor_RDD, hospital_RDD))\n"
     ],
     "language": "python",
     "metadata": {},
     "outputs": [],
     "prompt_number": 188
    },
    {
     "cell_type": "code",
     "collapsed": false,
     "input": [],
     "language": "python",
     "metadata": {},
     "outputs": [],
     "prompt_number": 188
    },
    {
     "cell_type": "code",
     "collapsed": false,
     "input": [],
     "language": "python",
     "metadata": {},
     "outputs": [],
     "prompt_number": 188
    },
    {
     "cell_type": "code",
     "collapsed": false,
     "input": [
      "# Preferences is a list of ints in order that you want them\n",
      "# pickingfrom is the ones you are picking from\n",
      "# N is how many you are picking\n",
      "# Ex: pick_top_N([3, 4, 5, 1, 2, 7, 8], [7, 1, 2, 4, 5], 3) -> [4, 5, 1]\n",
      "def pick_top_N(preferences, pickingfrom, N):\n",
      "    pickingfrom.sort(key=lambda x: preferences.index(x))\n",
      "    return pickingfrom[:N]\n",
      "\n",
      "    "
     ],
     "language": "python",
     "metadata": {},
     "outputs": [],
     "prompt_number": 189
    },
    {
     "cell_type": "code",
     "collapsed": false,
     "input": [],
     "language": "python",
     "metadata": {},
     "outputs": [],
     "prompt_number": 189
    },
    {
     "cell_type": "code",
     "collapsed": false,
     "input": [
      "doctor_matchings = doctor_RDD.mapValues(lambda x : -1)\n",
      "hospital_matchings = hospital_RDD.mapValues(lambda x: [])"
     ],
     "language": "python",
     "metadata": {},
     "outputs": [],
     "prompt_number": 190
    },
    {
     "cell_type": "code",
     "collapsed": false,
     "input": [
      "def combine_old_new(newoptions, oldoptions, preferences):\n",
      "    if newoptions == None:\n",
      "        newoptions = []\n",
      "    if oldoptions == None:\n",
      "        oldoptions = []\n",
      "    alloptions = list(set(newoptions).union(set(oldoptions)))\n",
      "    return pick_top_N(preferences, alloptions, 8)\n"
     ],
     "language": "python",
     "metadata": {},
     "outputs": [],
     "prompt_number": 191
    },
    {
     "cell_type": "code",
     "collapsed": false,
     "input": [
      "def accept_new_hospital_assignment(old, new):\n",
      "    if new == None:\n",
      "        return -1\n",
      "    return new"
     ],
     "language": "python",
     "metadata": {},
     "outputs": [],
     "prompt_number": 192
    },
    {
     "cell_type": "code",
     "collapsed": false,
     "input": [
      "# If unmatched (match == -1), then we are gonna use try to use the next pref, so one remove from the list\n",
      "def remove_pref_if_needed(prefs, match):\n",
      "    # If unmatched and pref remaining, remove it.\n",
      "    if match == -1 and len(prefs) > 0:\n",
      "        return prefs[1:]\n",
      "    # Else return original prefs\n",
      "    return prefs"
     ],
     "language": "python",
     "metadata": {},
     "outputs": [],
     "prompt_number": 193
    },
    {
     "cell_type": "code",
     "collapsed": false,
     "input": [
      "def is_changed(old, new):\n",
      "    if old == -1 and new == None:\n",
      "        return False\n",
      "    elif old == -1 and new != None:\n",
      "        return True\n",
      "    return old != new\n",
      "    "
     ],
     "language": "python",
     "metadata": {},
     "outputs": [],
     "prompt_number": 194
    },
    {
     "cell_type": "code",
     "collapsed": false,
     "input": [
      "doctor_prefs = doctor_RDD.map(lambda x: x).partitionBy(numPartitions).cache()"
     ],
     "language": "python",
     "metadata": {},
     "outputs": [],
     "prompt_number": 195
    },
    {
     "cell_type": "code",
     "collapsed": false,
     "input": [],
     "language": "python",
     "metadata": {},
     "outputs": [],
     "prompt_number": 195
    },
    {
     "cell_type": "code",
     "collapsed": false,
     "input": [],
     "language": "python",
     "metadata": {},
     "outputs": [],
     "prompt_number": 195
    },
    {
     "cell_type": "code",
     "collapsed": false,
     "input": [
      "# Accum1 tracks the number of doctors whose status changed\n",
      "accum = sc.accumulator(1)\n",
      "# Accum2 tracks the number of preferences that still need to be checked amongst unmatched doctors\n",
      "accum2 = sc.accumulator(1)\n",
      "while accum.value > 0 or accum2.value > 0:\n",
      "    accum.value = 0\n",
      "    accum2.value = 0\n",
      "    # These are the top remaining choices for the unmatched doctors\n",
      "    assert(copartitioned(doctor_prefs, doctor_matchings))\n",
      "    unmatched_doctor_preferences = doctor_prefs.join(doctor_matchings).filter(lambda (doc, (prefs, match)): match == -1 and len(prefs) > 0).mapValues(lambda (prefs, match): prefs)\n",
      "    unmatched_doctor_preferences.foreach(lambda (x, prefs): accum2.add(len(prefs)))\n",
      "\n",
      "    # Update all of the doctor prefs by removing the first pref from each unmatched doctor\n",
      "    assert(copartitioned(doctor_prefs, doctor_matchings))\n",
      "    doctor_prefs = doctor_prefs.join(doctor_matchings).mapValues(lambda (prefs, match): remove_pref_if_needed(prefs, match)).cache()\n",
      "    # Take the first pref from each unmatched doctor \n",
      "    doctor_proposals = unmatched_doctor_preferences.mapValues(lambda x: x[0])\n",
      "    # Group the requests by hospital\n",
      "    hospital_groupings = doctor_proposals.map(lambda (x, y) : (y, x)).partitionBy(numPartitions).groupByKey()\n",
      "    # Join the new requests for each hospital with what they previously had and their preferences\n",
      "    assert(copartitioned(hospital_groupings, hospital_matchings))\n",
      "    assert(copartitioned(hospital_groupings, hospital_RDD))\n",
      "    joined_hospital = hospital_groupings.rightOuterJoin(hospital_matchings).join(hospital_RDD)\n",
      "    # Determine the best ones\n",
      "    hospital_matchings = joined_hospital.mapValues(lambda ((new, old), preferences): combine_old_new(new, old, preferences)).cache()\n",
      "    # Inform the doctors of the match\n",
      "    matched_doctors = hospital_matchings.flatMapValues(lambda x: x).map(lambda (x, y) : (y, x)).partitionBy(numPartitions)\n",
      "    # Update the doctor matchings\n",
      "    assert(copartitioned(doctor_matchings, matched_doctors))\n",
      "    doctor_join = doctor_matchings.leftOuterJoin(matched_doctors).cache()\n",
      "    doctor_join.filter(lambda (key, (old, new)): is_changed(old, new)).foreach(lambda x: accum.add(1))\n",
      "    doctor_matchings = doctor_join.mapValues(lambda (old,new) : accept_new_hospital_assignment(old, new)).cache()\n",
      "    print \"Number of doctors whose status changed\", accum.value\n",
      "    print \"Number of unmatched preferences to still check\", accum2.value\n",
      "    sys.stdout.flush()\n"
     ],
     "language": "python",
     "metadata": {},
     "outputs": [
      {
       "output_type": "stream",
       "stream": "stdout",
       "text": [
        "Number of doctors whose status changed 1517\n",
        "Number of unmatched preferences to still check 80000\n"
       ]
      },
      {
       "output_type": "stream",
       "stream": "stdout",
       "text": [
        "Number of doctors whose status changed 581\n",
        "Number of unmatched preferences to still check 18837\n"
       ]
      },
      {
       "output_type": "stream",
       "stream": "stdout",
       "text": [
        "Number of doctors whose status changed 455\n",
        "Number of unmatched preferences to still check 16065\n"
       ]
      },
      {
       "output_type": "stream",
       "stream": "stdout",
       "text": [
        "Number of doctors whose status changed 365\n",
        "Number of unmatched preferences to still check 15487\n"
       ]
      },
      {
       "output_type": "stream",
       "stream": "stdout",
       "text": [
        "Number of doctors whose status changed 338\n",
        "Number of unmatched preferences to still check 15290\n"
       ]
      },
      {
       "output_type": "stream",
       "stream": "stdout",
       "text": [
        "Number of doctors whose status changed 292\n",
        "Number of unmatched preferences to still check 14994\n"
       ]
      },
      {
       "output_type": "stream",
       "stream": "stdout",
       "text": [
        "Number of doctors whose status changed 298\n",
        "Number of unmatched preferences to still check 14875\n"
       ]
      },
      {
       "output_type": "stream",
       "stream": "stdout",
       "text": [
        "Number of doctors whose status changed 270\n",
        "Number of unmatched preferences to still check 14760\n"
       ]
      },
      {
       "output_type": "stream",
       "stream": "stdout",
       "text": [
        "Number of doctors whose status changed 238\n",
        "Number of unmatched preferences to still check 14625\n"
       ]
      },
      {
       "output_type": "stream",
       "stream": "stdout",
       "text": [
        "Number of doctors whose status changed 256\n",
        "Number of unmatched preferences to still check 14523\n"
       ]
      },
      {
       "output_type": "stream",
       "stream": "stdout",
       "text": [
        "Number of doctors whose status changed 208\n",
        "Number of unmatched preferences to still check 14414\n"
       ]
      },
      {
       "output_type": "stream",
       "stream": "stdout",
       "text": [
        "Number of doctors whose status changed 194\n",
        "Number of unmatched preferences to still check 14282\n"
       ]
      },
      {
       "output_type": "stream",
       "stream": "stdout",
       "text": [
        "Number of doctors whose status changed 198\n",
        "Number of unmatched preferences to still check 14089\n"
       ]
      },
      {
       "output_type": "stream",
       "stream": "stdout",
       "text": [
        "Number of doctors whose status changed 168\n",
        "Number of unmatched preferences to still check 13962\n"
       ]
      },
      {
       "output_type": "stream",
       "stream": "stdout",
       "text": [
        "Number of doctors whose status changed 142\n",
        "Number of unmatched preferences to still check 13834\n"
       ]
      },
      {
       "output_type": "stream",
       "stream": "stdout",
       "text": [
        "Number of doctors whose status changed 184\n",
        "Number of unmatched preferences to still check 13705\n"
       ]
      },
      {
       "output_type": "stream",
       "stream": "stdout",
       "text": [
        "Number of doctors whose status changed 140\n",
        "Number of unmatched preferences to still check 13624\n"
       ]
      },
      {
       "output_type": "stream",
       "stream": "stdout",
       "text": [
        "Number of doctors whose status changed 138\n",
        "Number of unmatched preferences to still check 13404\n"
       ]
      },
      {
       "output_type": "stream",
       "stream": "stdout",
       "text": [
        "Number of doctors whose status changed 126\n",
        "Number of unmatched preferences to still check 13285\n"
       ]
      },
      {
       "output_type": "stream",
       "stream": "stdout",
       "text": [
        "Number of doctors whose status changed 120\n",
        "Number of unmatched preferences to still check 13177\n"
       ]
      },
      {
       "output_type": "stream",
       "stream": "stdout",
       "text": [
        "Number of doctors whose status changed 120\n",
        "Number of unmatched preferences to still check 13012\n"
       ]
      },
      {
       "output_type": "stream",
       "stream": "stdout",
       "text": [
        "Number of doctors whose status changed 116\n",
        "Number of unmatched preferences to still check 12876\n"
       ]
      },
      {
       "output_type": "stream",
       "stream": "stdout",
       "text": [
        "Number of doctors whose status changed 136\n",
        "Number of unmatched preferences to still check 12735\n"
       ]
      },
      {
       "output_type": "stream",
       "stream": "stdout",
       "text": [
        "Number of doctors whose status changed 102\n",
        "Number of unmatched preferences to still check 12600\n"
       ]
      },
      {
       "output_type": "stream",
       "stream": "stdout",
       "text": [
        "Number of doctors whose status changed 116\n",
        "Number of unmatched preferences to still check 12463\n"
       ]
      },
      {
       "output_type": "stream",
       "stream": "stdout",
       "text": [
        "Number of doctors whose status changed 94\n",
        "Number of unmatched preferences to still check 12297\n"
       ]
      },
      {
       "output_type": "stream",
       "stream": "stdout",
       "text": [
        "Number of doctors whose status changed 84\n",
        "Number of unmatched preferences to still check 12212\n"
       ]
      },
      {
       "output_type": "stream",
       "stream": "stdout",
       "text": [
        "Number of doctors whose status changed 110\n",
        "Number of unmatched preferences to still check 12063\n"
       ]
      },
      {
       "output_type": "stream",
       "stream": "stdout",
       "text": [
        "Number of doctors whose status changed 94\n",
        "Number of unmatched preferences to still check 11937\n"
       ]
      },
      {
       "output_type": "stream",
       "stream": "stdout",
       "text": [
        "Number of doctors whose status changed 118\n",
        "Number of unmatched preferences to still check 11814\n"
       ]
      },
      {
       "output_type": "stream",
       "stream": "stdout",
       "text": [
        "Number of doctors whose status changed 92\n",
        "Number of unmatched preferences to still check 11677\n"
       ]
      },
      {
       "output_type": "stream",
       "stream": "stdout",
       "text": [
        "Number of doctors whose status changed 88\n",
        "Number of unmatched preferences to still check 11573\n"
       ]
      },
      {
       "output_type": "stream",
       "stream": "stdout",
       "text": [
        "Number of doctors whose status changed 74\n",
        "Number of unmatched preferences to still check 11485\n"
       ]
      },
      {
       "output_type": "stream",
       "stream": "stdout",
       "text": [
        "Number of doctors whose status changed 74\n",
        "Number of unmatched preferences to still check 11255\n"
       ]
      },
      {
       "output_type": "stream",
       "stream": "stdout",
       "text": [
        "Number of doctors whose status changed 84\n",
        "Number of unmatched preferences to still check 11077\n"
       ]
      },
      {
       "output_type": "stream",
       "stream": "stdout",
       "text": [
        "Number of doctors whose status changed 68\n",
        "Number of unmatched preferences to still check 10962\n"
       ]
      },
      {
       "output_type": "stream",
       "stream": "stdout",
       "text": [
        "Number of doctors whose status changed 80\n",
        "Number of unmatched preferences to still check 10812\n"
       ]
      },
      {
       "output_type": "stream",
       "stream": "stdout",
       "text": [
        "Number of doctors whose status changed 82\n",
        "Number of unmatched preferences to still check 10740\n"
       ]
      },
      {
       "output_type": "stream",
       "stream": "stdout",
       "text": [
        "Number of doctors whose status changed 82\n",
        "Number of unmatched preferences to still check 10667\n"
       ]
      },
      {
       "output_type": "stream",
       "stream": "stdout",
       "text": [
        "Number of doctors whose status changed 66\n",
        "Number of unmatched preferences to still check 10522\n"
       ]
      },
      {
       "output_type": "stream",
       "stream": "stdout",
       "text": [
        "Number of doctors whose status changed 88\n",
        "Number of unmatched preferences to still check 10348\n"
       ]
      },
      {
       "output_type": "stream",
       "stream": "stdout",
       "text": [
        "Number of doctors whose status changed 62\n",
        "Number of unmatched preferences to still check 10246\n"
       ]
      },
      {
       "output_type": "stream",
       "stream": "stdout",
       "text": [
        "Number of doctors whose status changed 62\n",
        "Number of unmatched preferences to still check 10194\n"
       ]
      },
      {
       "output_type": "stream",
       "stream": "stdout",
       "text": [
        "Number of doctors whose status changed 76\n",
        "Number of unmatched preferences to still check 10054\n"
       ]
      },
      {
       "output_type": "stream",
       "stream": "stdout",
       "text": [
        "Number of doctors whose status changed 88\n",
        "Number of unmatched preferences to still check 9927\n"
       ]
      },
      {
       "output_type": "stream",
       "stream": "stdout",
       "text": [
        "Number of doctors whose status changed 60\n",
        "Number of unmatched preferences to still check 9766\n"
       ]
      },
      {
       "output_type": "stream",
       "stream": "stdout",
       "text": [
        "Number of doctors whose status changed 60\n",
        "Number of unmatched preferences to still check 9704\n"
       ]
      },
      {
       "output_type": "stream",
       "stream": "stdout",
       "text": [
        "Number of doctors whose status changed 52\n",
        "Number of unmatched preferences to still check 9522\n"
       ]
      },
      {
       "output_type": "stream",
       "stream": "stdout",
       "text": [
        "Number of doctors whose status changed 68\n",
        "Number of unmatched preferences to still check 9362\n"
       ]
      },
      {
       "output_type": "stream",
       "stream": "stdout",
       "text": [
        "Number of doctors whose status changed 58\n",
        "Number of unmatched preferences to still check 9159\n"
       ]
      },
      {
       "output_type": "stream",
       "stream": "stdout",
       "text": [
        "Number of doctors whose status changed 56\n",
        "Number of unmatched preferences to still check 9088\n"
       ]
      },
      {
       "output_type": "stream",
       "stream": "stdout",
       "text": [
        "Number of doctors whose status changed 52\n",
        "Number of unmatched preferences to still check 9040\n"
       ]
      },
      {
       "output_type": "stream",
       "stream": "stdout",
       "text": [
        "Number of doctors whose status changed 48\n",
        "Number of unmatched preferences to still check 8907\n"
       ]
      },
      {
       "output_type": "stream",
       "stream": "stdout",
       "text": [
        "Number of doctors whose status changed 50\n",
        "Number of unmatched preferences to still check 8710\n"
       ]
      },
      {
       "output_type": "stream",
       "stream": "stdout",
       "text": [
        "Number of doctors whose status changed 64\n",
        "Number of unmatched preferences to still check 8515\n"
       ]
      },
      {
       "output_type": "stream",
       "stream": "stdout",
       "text": [
        "Number of doctors whose status changed 44\n",
        "Number of unmatched preferences to still check 8505\n"
       ]
      },
      {
       "output_type": "stream",
       "stream": "stdout",
       "text": [
        "Number of doctors whose status changed 54\n",
        "Number of unmatched preferences to still check 8416\n"
       ]
      },
      {
       "output_type": "stream",
       "stream": "stdout",
       "text": [
        "Number of doctors whose status changed 54\n",
        "Number of unmatched preferences to still check 8237\n"
       ]
      },
      {
       "output_type": "stream",
       "stream": "stdout",
       "text": [
        "Number of doctors whose status changed 44\n",
        "Number of unmatched preferences to still check 8086\n"
       ]
      },
      {
       "output_type": "stream",
       "stream": "stdout",
       "text": [
        "Number of doctors whose status changed 48\n",
        "Number of unmatched preferences to still check 7876\n"
       ]
      },
      {
       "output_type": "stream",
       "stream": "stdout",
       "text": [
        "Number of doctors whose status changed 46\n",
        "Number of unmatched preferences to still check 7632\n"
       ]
      },
      {
       "output_type": "stream",
       "stream": "stdout",
       "text": [
        "Number of doctors whose status changed 42\n",
        "Number of unmatched preferences to still check 7482\n"
       ]
      },
      {
       "output_type": "stream",
       "stream": "stdout",
       "text": [
        "Number of doctors whose status changed 46\n",
        "Number of unmatched preferences to still check 7318\n"
       ]
      },
      {
       "output_type": "stream",
       "stream": "stdout",
       "text": [
        "Number of doctors whose status changed 32\n",
        "Number of unmatched preferences to still check 7208\n"
       ]
      },
      {
       "output_type": "stream",
       "stream": "stdout",
       "text": [
        "Number of doctors whose status changed 24\n",
        "Number of unmatched preferences to still check 6975\n"
       ]
      },
      {
       "output_type": "stream",
       "stream": "stdout",
       "text": [
        "Number of doctors whose status changed 32\n",
        "Number of unmatched preferences to still check 6767\n"
       ]
      },
      {
       "output_type": "stream",
       "stream": "stdout",
       "text": [
        "Number of doctors whose status changed 26\n",
        "Number of unmatched preferences to still check 6572\n"
       ]
      },
      {
       "output_type": "stream",
       "stream": "stdout",
       "text": [
        "Number of doctors whose status changed 42\n",
        "Number of unmatched preferences to still check 6331\n"
       ]
      },
      {
       "output_type": "stream",
       "stream": "stdout",
       "text": [
        "Number of doctors whose status changed 26\n",
        "Number of unmatched preferences to still check 6208\n"
       ]
      },
      {
       "output_type": "stream",
       "stream": "stdout",
       "text": [
        "Number of doctors whose status changed 28\n",
        "Number of unmatched preferences to still check 5961\n"
       ]
      },
      {
       "output_type": "stream",
       "stream": "stdout",
       "text": [
        "Number of doctors whose status changed 32\n",
        "Number of unmatched preferences to still check 5808\n"
       ]
      },
      {
       "output_type": "stream",
       "stream": "stdout",
       "text": [
        "Number of doctors whose status changed 28\n",
        "Number of unmatched preferences to still check 5706\n"
       ]
      },
      {
       "output_type": "stream",
       "stream": "stdout",
       "text": [
        "Number of doctors whose status changed 26\n",
        "Number of unmatched preferences to still check 5494\n"
       ]
      },
      {
       "output_type": "stream",
       "stream": "stdout",
       "text": [
        "Number of doctors whose status changed 30\n",
        "Number of unmatched preferences to still check 5316\n"
       ]
      },
      {
       "output_type": "stream",
       "stream": "stdout",
       "text": [
        "Number of doctors whose status changed 24\n",
        "Number of unmatched preferences to still check 5164\n"
       ]
      },
      {
       "output_type": "stream",
       "stream": "stdout",
       "text": [
        "Number of doctors whose status changed 28\n",
        "Number of unmatched preferences to still check 5049\n"
       ]
      },
      {
       "output_type": "stream",
       "stream": "stdout",
       "text": [
        "Number of doctors whose status changed 30\n",
        "Number of unmatched preferences to still check 4932\n"
       ]
      },
      {
       "output_type": "stream",
       "stream": "stdout",
       "text": [
        "Number of doctors whose status changed 22\n",
        "Number of unmatched preferences to still check 4785\n"
       ]
      },
      {
       "output_type": "stream",
       "stream": "stdout",
       "text": [
        "Number of doctors whose status changed 28\n",
        "Number of unmatched preferences to still check 4657\n"
       ]
      },
      {
       "output_type": "stream",
       "stream": "stdout",
       "text": [
        "Number of doctors whose status changed 30\n",
        "Number of unmatched preferences to still check 4482\n"
       ]
      },
      {
       "output_type": "stream",
       "stream": "stdout",
       "text": [
        "Number of doctors whose status changed 28\n",
        "Number of unmatched preferences to still check 4265\n"
       ]
      },
      {
       "output_type": "stream",
       "stream": "stdout",
       "text": [
        "Number of doctors whose status changed 24\n",
        "Number of unmatched preferences to still check 4128\n"
       ]
      },
      {
       "output_type": "stream",
       "stream": "stdout",
       "text": [
        "Number of doctors whose status changed 32\n",
        "Number of unmatched preferences to still check 4059\n"
       ]
      },
      {
       "output_type": "stream",
       "stream": "stdout",
       "text": [
        "Number of doctors whose status changed 26\n",
        "Number of unmatched preferences to still check 3888\n"
       ]
      },
      {
       "output_type": "stream",
       "stream": "stdout",
       "text": [
        "Number of doctors whose status changed 20\n",
        "Number of unmatched preferences to still check 3862\n"
       ]
      },
      {
       "output_type": "stream",
       "stream": "stdout",
       "text": [
        "Number of doctors whose status changed 26\n",
        "Number of unmatched preferences to still check 3663\n"
       ]
      },
      {
       "output_type": "stream",
       "stream": "stdout",
       "text": [
        "Number of doctors whose status changed 32\n",
        "Number of unmatched preferences to still check 3672\n"
       ]
      },
      {
       "output_type": "stream",
       "stream": "stdout",
       "text": [
        "Number of doctors whose status changed 20\n",
        "Number of unmatched preferences to still check 3623\n"
       ]
      },
      {
       "output_type": "stream",
       "stream": "stdout",
       "text": [
        "Number of doctors whose status changed 22\n",
        "Number of unmatched preferences to still check 3531\n"
       ]
      },
      {
       "output_type": "stream",
       "stream": "stdout",
       "text": [
        "Number of doctors whose status changed 14\n",
        "Number of unmatched preferences to still check 3472\n"
       ]
      },
      {
       "output_type": "stream",
       "stream": "stdout",
       "text": [
        "Number of doctors whose status changed 14\n",
        "Number of unmatched preferences to still check 3356\n"
       ]
      },
      {
       "output_type": "stream",
       "stream": "stdout",
       "text": [
        "Number of doctors whose status changed 22\n",
        "Number of unmatched preferences to still check 3169\n"
       ]
      },
      {
       "output_type": "stream",
       "stream": "stdout",
       "text": [
        "Number of doctors whose status changed 10\n",
        "Number of unmatched preferences to still check 3034\n"
       ]
      },
      {
       "output_type": "stream",
       "stream": "stdout",
       "text": [
        "Number of doctors whose status changed 18\n",
        "Number of unmatched preferences to still check 2911\n"
       ]
      },
      {
       "output_type": "stream",
       "stream": "stdout",
       "text": [
        "Number of doctors whose status changed 26\n",
        "Number of unmatched preferences to still check 2861\n"
       ]
      },
      {
       "output_type": "stream",
       "stream": "stdout",
       "text": [
        "Number of doctors whose status changed 8\n",
        "Number of unmatched preferences to still check 2795\n"
       ]
      }
     ]
    },
    {
     "cell_type": "code",
     "collapsed": false,
     "input": [],
     "language": "python",
     "metadata": {},
     "outputs": [],
     "prompt_number": 181
    },
    {
     "cell_type": "code",
     "collapsed": false,
     "input": [],
     "language": "python",
     "metadata": {},
     "outputs": [],
     "prompt_number": 181
    },
    {
     "cell_type": "code",
     "collapsed": false,
     "input": [],
     "language": "python",
     "metadata": {},
     "outputs": [],
     "prompt_number": 174
    },
    {
     "cell_type": "code",
     "collapsed": false,
     "input": [
      "doctor_RDD.lookup(0)"
     ],
     "language": "python",
     "metadata": {},
     "outputs": [
      {
       "metadata": {},
       "output_type": "pyout",
       "prompt_number": 175,
       "text": [
        "[[2, 11, 9, 16, 13, 19, 0, 10, 8, 7, 18, 6, 3, 4, 2]]"
       ]
      }
     ],
     "prompt_number": 175
    },
    {
     "cell_type": "code",
     "collapsed": false,
     "input": [
      "# Given a match that a doctor had and the original preferences, determine all of the hospitals the doctor would have preferred.\n",
      "def getpreferredhospitals(match, preferences):\n",
      "    # If you weren't matched, you would have preferred any of the original ranked ones\n",
      "    if match == -1:\n",
      "        return preferences\n",
      "    # If you were matched, you would have preferred everything up until that one.\n",
      "    return preferences[:preferences.index(match)]\n",
      "    "
     ],
     "language": "python",
     "metadata": {},
     "outputs": [],
     "prompt_number": 176
    },
    {
     "cell_type": "code",
     "collapsed": false,
     "input": [
      "# Given the matches that a hospital got, determine all of the doctors the hospital would have preferred\n",
      "def getpreferreddoctors(matches, preferences):\n",
      "    # Figure out out which of the preferences were actually picked\n",
      "    indicies = [preferences.index(match) for match in matches]\n",
      "    max_index = max(indicies)\n",
      "    # Get all of the people up until the worst person picked\n",
      "    best_people = set(preferences[:max_index])\n",
      "    # Remove the people that were successfully picked\n",
      "    better_people = best_people - set(matches)\n",
      "    return list(best_people)\n",
      "    \n",
      "    "
     ],
     "language": "python",
     "metadata": {},
     "outputs": [],
     "prompt_number": 177
    },
    {
     "cell_type": "code",
     "collapsed": false,
     "input": [],
     "language": "python",
     "metadata": {},
     "outputs": [],
     "prompt_number": 177
    },
    {
     "cell_type": "code",
     "collapsed": false,
     "input": [
      "# Checks if all of the matches are valid\n",
      "def verify_matches(doc_matches, hos_matches, original_doc_prefs, original_hos_prefs):\n",
      "    doctor_to_hospital_preferences = doc_matches.join(original_doc_prefs).mapValues(lambda (match, preferences): getpreferredhospitals(match, preferences)).flatMapValues(lambda x: x)\n",
      "    hospital_to_doctor_preferences = hos_matches.join(original_hos_prefs).mapValues(lambda (matches, preferences): getpreferreddoctors(matches, preferences)).flatMapValues(lambda x: x)\n",
      "    return doctor_to_hospital_preferences.map(lambda (x,y): (y,x)).intersection(hospital_to_doctor_preferences)"
     ],
     "language": "python",
     "metadata": {},
     "outputs": [],
     "prompt_number": 178
    },
    {
     "cell_type": "code",
     "collapsed": false,
     "input": [
      "bad_results = verify_matches(doctor_matchings, hospital_matchings, doctor_RDD, hospital_RDD)\n",
      "# If the assertion passes, then this is a stable matching!\n",
      "assert(bad_results.count() == 0)"
     ],
     "language": "python",
     "metadata": {},
     "outputs": [],
     "prompt_number": 179
    },
    {
     "cell_type": "code",
     "collapsed": false,
     "input": [],
     "language": "python",
     "metadata": {},
     "outputs": [],
     "prompt_number": 181
    },
    {
     "cell_type": "code",
     "collapsed": false,
     "input": [
      "doctor_RDD.lookup(137)"
     ],
     "language": "python",
     "metadata": {},
     "outputs": [
      {
       "metadata": {},
       "output_type": "pyout",
       "prompt_number": 150,
       "text": [
        "[[19, 16, 13, 2, 3, 6, 9, 1, 0, 11, 7, 12, 18, 10, 14]]"
       ]
      }
     ],
     "prompt_number": 150
    },
    {
     "cell_type": "code",
     "collapsed": false,
     "input": [],
     "language": "python",
     "metadata": {},
     "outputs": [
      {
       "metadata": {},
       "output_type": "pyout",
       "prompt_number": 154,
       "text": [
        "[[18, 10, 14]]"
       ]
      }
     ],
     "prompt_number": 154
    },
    {
     "cell_type": "code",
     "collapsed": false,
     "input": [],
     "language": "python",
     "metadata": {},
     "outputs": [
      {
       "metadata": {},
       "output_type": "pyout",
       "prompt_number": 139,
       "text": [
        "0"
       ]
      }
     ],
     "prompt_number": 139
    },
    {
     "cell_type": "code",
     "collapsed": false,
     "input": [],
     "language": "python",
     "metadata": {},
     "outputs": []
    }
   ],
   "metadata": {}
  }
 ]
}